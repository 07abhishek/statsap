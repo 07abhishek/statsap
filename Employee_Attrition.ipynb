{
  "cells": [
    {
      "cell_type": "code",
      "execution_count": null,
      "metadata": {
        "id": "zV3golEnR-4c"
      },
      "outputs": [],
      "source": [
        "#Problem Statement"
      ]
    },
    {
      "cell_type": "code",
      "execution_count": null,
      "metadata": {
        "id": "311VuAp_SaRW"
      },
      "outputs": [],
      "source": [
        "#importing necessary libraries\n",
        "import numpy as np\n",
        "import pandas as pd\n",
        "import matplotlib.pyplot as plt\n",
        "import seaborn as seaborn\n",
        "from scipy import stats\n",
        "from scipy.stats import norm #for mathematical Population\n",
        "from sklearn.preprocessing import StandardScaler # for scaling\n",
        "import warnings\n",
        "warnings.filterwarnings('ignore')\n",
        "%matplotlib inline\n",
        "from tqdm import tqdm #for fast looping\n",
        "\n",
        "\n"
      ]
    },
    {
      "cell_type": "code",
      "execution_count": null,
      "metadata": {
        "id": "66jVVP7DUDRJ"
      },
      "outputs": [],
      "source": [
        "#load datasets\n",
        "train_data=pd.read_csv(\"/content/drive/MyDrive/CSV/train_dataset.csv\")\n",
        "train_data_salaries=pd.read_csv(\"/content/drive/MyDrive/CSV/train_salaries.csv\")\n",
        "test_data=pd.read_csv(\"/content/drive/MyDrive/CSV/test_dataset.csv\")\n"
      ]
    },
    {
      "cell_type": "code",
      "execution_count": null,
      "metadata": {
        "colab": {
          "base_uri": "https://localhost:8080/",
          "height": 206
        },
        "id": "0fUk-UXGVQhk",
        "outputId": "b3ec7b6e-9813-4614-8ace-1b47b2e0b015"
      },
      "outputs": [
        {
          "data": {
            "text/html": [
              "\n",
              "  <div id=\"df-44272e08-7e0e-4d50-bf76-102b4da1b268\">\n",
              "    <div class=\"colab-df-container\">\n",
              "      <div>\n",
              "<style scoped>\n",
              "    .dataframe tbody tr th:only-of-type {\n",
              "        vertical-align: middle;\n",
              "    }\n",
              "\n",
              "    .dataframe tbody tr th {\n",
              "        vertical-align: top;\n",
              "    }\n",
              "\n",
              "    .dataframe thead th {\n",
              "        text-align: right;\n",
              "    }\n",
              "</style>\n",
              "<table border=\"1\" class=\"dataframe\">\n",
              "  <thead>\n",
              "    <tr style=\"text-align: right;\">\n",
              "      <th></th>\n",
              "      <th>jobId</th>\n",
              "      <th>companyId</th>\n",
              "      <th>jobType</th>\n",
              "      <th>degree</th>\n",
              "      <th>major</th>\n",
              "      <th>industry</th>\n",
              "      <th>yearsExperience</th>\n",
              "      <th>milesFromMetropolis</th>\n",
              "    </tr>\n",
              "  </thead>\n",
              "  <tbody>\n",
              "    <tr>\n",
              "      <th>0</th>\n",
              "      <td>JOB1362684407687</td>\n",
              "      <td>COMP37</td>\n",
              "      <td>CFO</td>\n",
              "      <td>MASTERS</td>\n",
              "      <td>MATH</td>\n",
              "      <td>HEALTH</td>\n",
              "      <td>10</td>\n",
              "      <td>83</td>\n",
              "    </tr>\n",
              "    <tr>\n",
              "      <th>1</th>\n",
              "      <td>JOB1362684407688</td>\n",
              "      <td>COMP19</td>\n",
              "      <td>CEO</td>\n",
              "      <td>HIGH_SCHOOL</td>\n",
              "      <td>NONE</td>\n",
              "      <td>WEB</td>\n",
              "      <td>3</td>\n",
              "      <td>73</td>\n",
              "    </tr>\n",
              "    <tr>\n",
              "      <th>2</th>\n",
              "      <td>JOB1362684407689</td>\n",
              "      <td>COMP52</td>\n",
              "      <td>VICE_PRESIDENT</td>\n",
              "      <td>DOCTORAL</td>\n",
              "      <td>PHYSICS</td>\n",
              "      <td>HEALTH</td>\n",
              "      <td>10</td>\n",
              "      <td>38</td>\n",
              "    </tr>\n",
              "    <tr>\n",
              "      <th>3</th>\n",
              "      <td>JOB1362684407690</td>\n",
              "      <td>COMP38</td>\n",
              "      <td>MANAGER</td>\n",
              "      <td>DOCTORAL</td>\n",
              "      <td>CHEMISTRY</td>\n",
              "      <td>AUTO</td>\n",
              "      <td>8</td>\n",
              "      <td>17</td>\n",
              "    </tr>\n",
              "    <tr>\n",
              "      <th>4</th>\n",
              "      <td>JOB1362684407691</td>\n",
              "      <td>COMP7</td>\n",
              "      <td>VICE_PRESIDENT</td>\n",
              "      <td>BACHELORS</td>\n",
              "      <td>PHYSICS</td>\n",
              "      <td>FINANCE</td>\n",
              "      <td>8</td>\n",
              "      <td>16</td>\n",
              "    </tr>\n",
              "  </tbody>\n",
              "</table>\n",
              "</div>\n",
              "      <button class=\"colab-df-convert\" onclick=\"convertToInteractive('df-44272e08-7e0e-4d50-bf76-102b4da1b268')\"\n",
              "              title=\"Convert this dataframe to an interactive table.\"\n",
              "              style=\"display:none;\">\n",
              "        \n",
              "  <svg xmlns=\"http://www.w3.org/2000/svg\" height=\"24px\"viewBox=\"0 0 24 24\"\n",
              "       width=\"24px\">\n",
              "    <path d=\"M0 0h24v24H0V0z\" fill=\"none\"/>\n",
              "    <path d=\"M18.56 5.44l.94 2.06.94-2.06 2.06-.94-2.06-.94-.94-2.06-.94 2.06-2.06.94zm-11 1L8.5 8.5l.94-2.06 2.06-.94-2.06-.94L8.5 2.5l-.94 2.06-2.06.94zm10 10l.94 2.06.94-2.06 2.06-.94-2.06-.94-.94-2.06-.94 2.06-2.06.94z\"/><path d=\"M17.41 7.96l-1.37-1.37c-.4-.4-.92-.59-1.43-.59-.52 0-1.04.2-1.43.59L10.3 9.45l-7.72 7.72c-.78.78-.78 2.05 0 2.83L4 21.41c.39.39.9.59 1.41.59.51 0 1.02-.2 1.41-.59l7.78-7.78 2.81-2.81c.8-.78.8-2.07 0-2.86zM5.41 20L4 18.59l7.72-7.72 1.47 1.35L5.41 20z\"/>\n",
              "  </svg>\n",
              "      </button>\n",
              "      \n",
              "  <style>\n",
              "    .colab-df-container {\n",
              "      display:flex;\n",
              "      flex-wrap:wrap;\n",
              "      gap: 12px;\n",
              "    }\n",
              "\n",
              "    .colab-df-convert {\n",
              "      background-color: #E8F0FE;\n",
              "      border: none;\n",
              "      border-radius: 50%;\n",
              "      cursor: pointer;\n",
              "      display: none;\n",
              "      fill: #1967D2;\n",
              "      height: 32px;\n",
              "      padding: 0 0 0 0;\n",
              "      width: 32px;\n",
              "    }\n",
              "\n",
              "    .colab-df-convert:hover {\n",
              "      background-color: #E2EBFA;\n",
              "      box-shadow: 0px 1px 2px rgba(60, 64, 67, 0.3), 0px 1px 3px 1px rgba(60, 64, 67, 0.15);\n",
              "      fill: #174EA6;\n",
              "    }\n",
              "\n",
              "    [theme=dark] .colab-df-convert {\n",
              "      background-color: #3B4455;\n",
              "      fill: #D2E3FC;\n",
              "    }\n",
              "\n",
              "    [theme=dark] .colab-df-convert:hover {\n",
              "      background-color: #434B5C;\n",
              "      box-shadow: 0px 1px 3px 1px rgba(0, 0, 0, 0.15);\n",
              "      filter: drop-shadow(0px 1px 2px rgba(0, 0, 0, 0.3));\n",
              "      fill: #FFFFFF;\n",
              "    }\n",
              "  </style>\n",
              "\n",
              "      <script>\n",
              "        const buttonEl =\n",
              "          document.querySelector('#df-44272e08-7e0e-4d50-bf76-102b4da1b268 button.colab-df-convert');\n",
              "        buttonEl.style.display =\n",
              "          google.colab.kernel.accessAllowed ? 'block' : 'none';\n",
              "\n",
              "        async function convertToInteractive(key) {\n",
              "          const element = document.querySelector('#df-44272e08-7e0e-4d50-bf76-102b4da1b268');\n",
              "          const dataTable =\n",
              "            await google.colab.kernel.invokeFunction('convertToInteractive',\n",
              "                                                     [key], {});\n",
              "          if (!dataTable) return;\n",
              "\n",
              "          const docLinkHtml = 'Like what you see? Visit the ' +\n",
              "            '<a target=\"_blank\" href=https://colab.research.google.com/notebooks/data_table.ipynb>data table notebook</a>'\n",
              "            + ' to learn more about interactive tables.';\n",
              "          element.innerHTML = '';\n",
              "          dataTable['output_type'] = 'display_data';\n",
              "          await google.colab.output.renderOutput(dataTable, element);\n",
              "          const docLink = document.createElement('div');\n",
              "          docLink.innerHTML = docLinkHtml;\n",
              "          element.appendChild(docLink);\n",
              "        }\n",
              "      </script>\n",
              "    </div>\n",
              "  </div>\n",
              "  "
            ],
            "text/plain": [
              "              jobId companyId         jobType       degree      major  \\\n",
              "0  JOB1362684407687    COMP37             CFO      MASTERS       MATH   \n",
              "1  JOB1362684407688    COMP19             CEO  HIGH_SCHOOL       NONE   \n",
              "2  JOB1362684407689    COMP52  VICE_PRESIDENT     DOCTORAL    PHYSICS   \n",
              "3  JOB1362684407690    COMP38         MANAGER     DOCTORAL  CHEMISTRY   \n",
              "4  JOB1362684407691     COMP7  VICE_PRESIDENT    BACHELORS    PHYSICS   \n",
              "\n",
              "  industry  yearsExperience  milesFromMetropolis  \n",
              "0   HEALTH               10                   83  \n",
              "1      WEB                3                   73  \n",
              "2   HEALTH               10                   38  \n",
              "3     AUTO                8                   17  \n",
              "4  FINANCE                8                   16  "
            ]
          },
          "execution_count": 4,
          "metadata": {},
          "output_type": "execute_result"
        }
      ],
      "source": [
        "#Reading first five data points\n",
        "train_data.head()\n"
      ]
    },
    {
      "cell_type": "code",
      "execution_count": null,
      "metadata": {
        "colab": {
          "base_uri": "https://localhost:8080/",
          "height": 206
        },
        "id": "BJ-_FxHAVmgg",
        "outputId": "cdc4ee73-317c-4170-d552-37716f726f01"
      },
      "outputs": [
        {
          "data": {
            "text/html": [
              "\n",
              "  <div id=\"df-518fd128-540e-4a61-a0a9-917048cb156f\">\n",
              "    <div class=\"colab-df-container\">\n",
              "      <div>\n",
              "<style scoped>\n",
              "    .dataframe tbody tr th:only-of-type {\n",
              "        vertical-align: middle;\n",
              "    }\n",
              "\n",
              "    .dataframe tbody tr th {\n",
              "        vertical-align: top;\n",
              "    }\n",
              "\n",
              "    .dataframe thead th {\n",
              "        text-align: right;\n",
              "    }\n",
              "</style>\n",
              "<table border=\"1\" class=\"dataframe\">\n",
              "  <thead>\n",
              "    <tr style=\"text-align: right;\">\n",
              "      <th></th>\n",
              "      <th>jobId</th>\n",
              "      <th>salary</th>\n",
              "    </tr>\n",
              "  </thead>\n",
              "  <tbody>\n",
              "    <tr>\n",
              "      <th>0</th>\n",
              "      <td>JOB1362684407687</td>\n",
              "      <td>130</td>\n",
              "    </tr>\n",
              "    <tr>\n",
              "      <th>1</th>\n",
              "      <td>JOB1362684407688</td>\n",
              "      <td>101</td>\n",
              "    </tr>\n",
              "    <tr>\n",
              "      <th>2</th>\n",
              "      <td>JOB1362684407689</td>\n",
              "      <td>137</td>\n",
              "    </tr>\n",
              "    <tr>\n",
              "      <th>3</th>\n",
              "      <td>JOB1362684407690</td>\n",
              "      <td>142</td>\n",
              "    </tr>\n",
              "    <tr>\n",
              "      <th>4</th>\n",
              "      <td>JOB1362684407691</td>\n",
              "      <td>163</td>\n",
              "    </tr>\n",
              "  </tbody>\n",
              "</table>\n",
              "</div>\n",
              "      <button class=\"colab-df-convert\" onclick=\"convertToInteractive('df-518fd128-540e-4a61-a0a9-917048cb156f')\"\n",
              "              title=\"Convert this dataframe to an interactive table.\"\n",
              "              style=\"display:none;\">\n",
              "        \n",
              "  <svg xmlns=\"http://www.w3.org/2000/svg\" height=\"24px\"viewBox=\"0 0 24 24\"\n",
              "       width=\"24px\">\n",
              "    <path d=\"M0 0h24v24H0V0z\" fill=\"none\"/>\n",
              "    <path d=\"M18.56 5.44l.94 2.06.94-2.06 2.06-.94-2.06-.94-.94-2.06-.94 2.06-2.06.94zm-11 1L8.5 8.5l.94-2.06 2.06-.94-2.06-.94L8.5 2.5l-.94 2.06-2.06.94zm10 10l.94 2.06.94-2.06 2.06-.94-2.06-.94-.94-2.06-.94 2.06-2.06.94z\"/><path d=\"M17.41 7.96l-1.37-1.37c-.4-.4-.92-.59-1.43-.59-.52 0-1.04.2-1.43.59L10.3 9.45l-7.72 7.72c-.78.78-.78 2.05 0 2.83L4 21.41c.39.39.9.59 1.41.59.51 0 1.02-.2 1.41-.59l7.78-7.78 2.81-2.81c.8-.78.8-2.07 0-2.86zM5.41 20L4 18.59l7.72-7.72 1.47 1.35L5.41 20z\"/>\n",
              "  </svg>\n",
              "      </button>\n",
              "      \n",
              "  <style>\n",
              "    .colab-df-container {\n",
              "      display:flex;\n",
              "      flex-wrap:wrap;\n",
              "      gap: 12px;\n",
              "    }\n",
              "\n",
              "    .colab-df-convert {\n",
              "      background-color: #E8F0FE;\n",
              "      border: none;\n",
              "      border-radius: 50%;\n",
              "      cursor: pointer;\n",
              "      display: none;\n",
              "      fill: #1967D2;\n",
              "      height: 32px;\n",
              "      padding: 0 0 0 0;\n",
              "      width: 32px;\n",
              "    }\n",
              "\n",
              "    .colab-df-convert:hover {\n",
              "      background-color: #E2EBFA;\n",
              "      box-shadow: 0px 1px 2px rgba(60, 64, 67, 0.3), 0px 1px 3px 1px rgba(60, 64, 67, 0.15);\n",
              "      fill: #174EA6;\n",
              "    }\n",
              "\n",
              "    [theme=dark] .colab-df-convert {\n",
              "      background-color: #3B4455;\n",
              "      fill: #D2E3FC;\n",
              "    }\n",
              "\n",
              "    [theme=dark] .colab-df-convert:hover {\n",
              "      background-color: #434B5C;\n",
              "      box-shadow: 0px 1px 3px 1px rgba(0, 0, 0, 0.15);\n",
              "      filter: drop-shadow(0px 1px 2px rgba(0, 0, 0, 0.3));\n",
              "      fill: #FFFFFF;\n",
              "    }\n",
              "  </style>\n",
              "\n",
              "      <script>\n",
              "        const buttonEl =\n",
              "          document.querySelector('#df-518fd128-540e-4a61-a0a9-917048cb156f button.colab-df-convert');\n",
              "        buttonEl.style.display =\n",
              "          google.colab.kernel.accessAllowed ? 'block' : 'none';\n",
              "\n",
              "        async function convertToInteractive(key) {\n",
              "          const element = document.querySelector('#df-518fd128-540e-4a61-a0a9-917048cb156f');\n",
              "          const dataTable =\n",
              "            await google.colab.kernel.invokeFunction('convertToInteractive',\n",
              "                                                     [key], {});\n",
              "          if (!dataTable) return;\n",
              "\n",
              "          const docLinkHtml = 'Like what you see? Visit the ' +\n",
              "            '<a target=\"_blank\" href=https://colab.research.google.com/notebooks/data_table.ipynb>data table notebook</a>'\n",
              "            + ' to learn more about interactive tables.';\n",
              "          element.innerHTML = '';\n",
              "          dataTable['output_type'] = 'display_data';\n",
              "          await google.colab.output.renderOutput(dataTable, element);\n",
              "          const docLink = document.createElement('div');\n",
              "          docLink.innerHTML = docLinkHtml;\n",
              "          element.appendChild(docLink);\n",
              "        }\n",
              "      </script>\n",
              "    </div>\n",
              "  </div>\n",
              "  "
            ],
            "text/plain": [
              "              jobId  salary\n",
              "0  JOB1362684407687     130\n",
              "1  JOB1362684407688     101\n",
              "2  JOB1362684407689     137\n",
              "3  JOB1362684407690     142\n",
              "4  JOB1362684407691     163"
            ]
          },
          "execution_count": 5,
          "metadata": {},
          "output_type": "execute_result"
        }
      ],
      "source": [
        "train_data_salaries.head()"
      ]
    },
    {
      "cell_type": "code",
      "execution_count": null,
      "metadata": {
        "colab": {
          "base_uri": "https://localhost:8080/",
          "height": 206
        },
        "id": "0YLiI0VkV1ic",
        "outputId": "58c1c2aa-4558-4382-d153-abd3f08edaa3"
      },
      "outputs": [
        {
          "data": {
            "text/html": [
              "\n",
              "  <div id=\"df-3f10d59e-d37c-450f-aeb7-f31bb5d8efce\">\n",
              "    <div class=\"colab-df-container\">\n",
              "      <div>\n",
              "<style scoped>\n",
              "    .dataframe tbody tr th:only-of-type {\n",
              "        vertical-align: middle;\n",
              "    }\n",
              "\n",
              "    .dataframe tbody tr th {\n",
              "        vertical-align: top;\n",
              "    }\n",
              "\n",
              "    .dataframe thead th {\n",
              "        text-align: right;\n",
              "    }\n",
              "</style>\n",
              "<table border=\"1\" class=\"dataframe\">\n",
              "  <thead>\n",
              "    <tr style=\"text-align: right;\">\n",
              "      <th></th>\n",
              "      <th>jobId</th>\n",
              "      <th>companyId</th>\n",
              "      <th>jobType</th>\n",
              "      <th>degree</th>\n",
              "      <th>major</th>\n",
              "      <th>industry</th>\n",
              "      <th>yearsExperience</th>\n",
              "      <th>milesFromMetropolis</th>\n",
              "    </tr>\n",
              "  </thead>\n",
              "  <tbody>\n",
              "    <tr>\n",
              "      <th>0</th>\n",
              "      <td>JOB1362685407687</td>\n",
              "      <td>COMP33</td>\n",
              "      <td>MANAGER</td>\n",
              "      <td>HIGH_SCHOOL</td>\n",
              "      <td>NONE</td>\n",
              "      <td>HEALTH</td>\n",
              "      <td>22</td>\n",
              "      <td>73</td>\n",
              "    </tr>\n",
              "    <tr>\n",
              "      <th>1</th>\n",
              "      <td>JOB1362685407688</td>\n",
              "      <td>COMP13</td>\n",
              "      <td>JUNIOR</td>\n",
              "      <td>NONE</td>\n",
              "      <td>NONE</td>\n",
              "      <td>AUTO</td>\n",
              "      <td>20</td>\n",
              "      <td>47</td>\n",
              "    </tr>\n",
              "    <tr>\n",
              "      <th>2</th>\n",
              "      <td>JOB1362685407689</td>\n",
              "      <td>COMP10</td>\n",
              "      <td>CTO</td>\n",
              "      <td>MASTERS</td>\n",
              "      <td>BIOLOGY</td>\n",
              "      <td>HEALTH</td>\n",
              "      <td>17</td>\n",
              "      <td>9</td>\n",
              "    </tr>\n",
              "    <tr>\n",
              "      <th>3</th>\n",
              "      <td>JOB1362685407690</td>\n",
              "      <td>COMP21</td>\n",
              "      <td>MANAGER</td>\n",
              "      <td>HIGH_SCHOOL</td>\n",
              "      <td>NONE</td>\n",
              "      <td>OIL</td>\n",
              "      <td>14</td>\n",
              "      <td>96</td>\n",
              "    </tr>\n",
              "    <tr>\n",
              "      <th>4</th>\n",
              "      <td>JOB1362685407691</td>\n",
              "      <td>COMP36</td>\n",
              "      <td>JUNIOR</td>\n",
              "      <td>DOCTORAL</td>\n",
              "      <td>BIOLOGY</td>\n",
              "      <td>OIL</td>\n",
              "      <td>10</td>\n",
              "      <td>44</td>\n",
              "    </tr>\n",
              "  </tbody>\n",
              "</table>\n",
              "</div>\n",
              "      <button class=\"colab-df-convert\" onclick=\"convertToInteractive('df-3f10d59e-d37c-450f-aeb7-f31bb5d8efce')\"\n",
              "              title=\"Convert this dataframe to an interactive table.\"\n",
              "              style=\"display:none;\">\n",
              "        \n",
              "  <svg xmlns=\"http://www.w3.org/2000/svg\" height=\"24px\"viewBox=\"0 0 24 24\"\n",
              "       width=\"24px\">\n",
              "    <path d=\"M0 0h24v24H0V0z\" fill=\"none\"/>\n",
              "    <path d=\"M18.56 5.44l.94 2.06.94-2.06 2.06-.94-2.06-.94-.94-2.06-.94 2.06-2.06.94zm-11 1L8.5 8.5l.94-2.06 2.06-.94-2.06-.94L8.5 2.5l-.94 2.06-2.06.94zm10 10l.94 2.06.94-2.06 2.06-.94-2.06-.94-.94-2.06-.94 2.06-2.06.94z\"/><path d=\"M17.41 7.96l-1.37-1.37c-.4-.4-.92-.59-1.43-.59-.52 0-1.04.2-1.43.59L10.3 9.45l-7.72 7.72c-.78.78-.78 2.05 0 2.83L4 21.41c.39.39.9.59 1.41.59.51 0 1.02-.2 1.41-.59l7.78-7.78 2.81-2.81c.8-.78.8-2.07 0-2.86zM5.41 20L4 18.59l7.72-7.72 1.47 1.35L5.41 20z\"/>\n",
              "  </svg>\n",
              "      </button>\n",
              "      \n",
              "  <style>\n",
              "    .colab-df-container {\n",
              "      display:flex;\n",
              "      flex-wrap:wrap;\n",
              "      gap: 12px;\n",
              "    }\n",
              "\n",
              "    .colab-df-convert {\n",
              "      background-color: #E8F0FE;\n",
              "      border: none;\n",
              "      border-radius: 50%;\n",
              "      cursor: pointer;\n",
              "      display: none;\n",
              "      fill: #1967D2;\n",
              "      height: 32px;\n",
              "      padding: 0 0 0 0;\n",
              "      width: 32px;\n",
              "    }\n",
              "\n",
              "    .colab-df-convert:hover {\n",
              "      background-color: #E2EBFA;\n",
              "      box-shadow: 0px 1px 2px rgba(60, 64, 67, 0.3), 0px 1px 3px 1px rgba(60, 64, 67, 0.15);\n",
              "      fill: #174EA6;\n",
              "    }\n",
              "\n",
              "    [theme=dark] .colab-df-convert {\n",
              "      background-color: #3B4455;\n",
              "      fill: #D2E3FC;\n",
              "    }\n",
              "\n",
              "    [theme=dark] .colab-df-convert:hover {\n",
              "      background-color: #434B5C;\n",
              "      box-shadow: 0px 1px 3px 1px rgba(0, 0, 0, 0.15);\n",
              "      filter: drop-shadow(0px 1px 2px rgba(0, 0, 0, 0.3));\n",
              "      fill: #FFFFFF;\n",
              "    }\n",
              "  </style>\n",
              "\n",
              "      <script>\n",
              "        const buttonEl =\n",
              "          document.querySelector('#df-3f10d59e-d37c-450f-aeb7-f31bb5d8efce button.colab-df-convert');\n",
              "        buttonEl.style.display =\n",
              "          google.colab.kernel.accessAllowed ? 'block' : 'none';\n",
              "\n",
              "        async function convertToInteractive(key) {\n",
              "          const element = document.querySelector('#df-3f10d59e-d37c-450f-aeb7-f31bb5d8efce');\n",
              "          const dataTable =\n",
              "            await google.colab.kernel.invokeFunction('convertToInteractive',\n",
              "                                                     [key], {});\n",
              "          if (!dataTable) return;\n",
              "\n",
              "          const docLinkHtml = 'Like what you see? Visit the ' +\n",
              "            '<a target=\"_blank\" href=https://colab.research.google.com/notebooks/data_table.ipynb>data table notebook</a>'\n",
              "            + ' to learn more about interactive tables.';\n",
              "          element.innerHTML = '';\n",
              "          dataTable['output_type'] = 'display_data';\n",
              "          await google.colab.output.renderOutput(dataTable, element);\n",
              "          const docLink = document.createElement('div');\n",
              "          docLink.innerHTML = docLinkHtml;\n",
              "          element.appendChild(docLink);\n",
              "        }\n",
              "      </script>\n",
              "    </div>\n",
              "  </div>\n",
              "  "
            ],
            "text/plain": [
              "              jobId companyId  jobType       degree    major industry  \\\n",
              "0  JOB1362685407687    COMP33  MANAGER  HIGH_SCHOOL     NONE   HEALTH   \n",
              "1  JOB1362685407688    COMP13   JUNIOR         NONE     NONE     AUTO   \n",
              "2  JOB1362685407689    COMP10      CTO      MASTERS  BIOLOGY   HEALTH   \n",
              "3  JOB1362685407690    COMP21  MANAGER  HIGH_SCHOOL     NONE      OIL   \n",
              "4  JOB1362685407691    COMP36   JUNIOR     DOCTORAL  BIOLOGY      OIL   \n",
              "\n",
              "   yearsExperience  milesFromMetropolis  \n",
              "0               22                   73  \n",
              "1               20                   47  \n",
              "2               17                    9  \n",
              "3               14                   96  \n",
              "4               10                   44  "
            ]
          },
          "execution_count": 6,
          "metadata": {},
          "output_type": "execute_result"
        }
      ],
      "source": [
        "test_data.head()"
      ]
    },
    {
      "cell_type": "code",
      "execution_count": null,
      "metadata": {
        "colab": {
          "base_uri": "https://localhost:8080/",
          "height": 424
        },
        "id": "J2tNF2poWNLV",
        "outputId": "66b44f5e-b242-4e06-9860-0f7379a84492"
      },
      "outputs": [
        {
          "data": {
            "text/html": [
              "\n",
              "  <div id=\"df-27462d25-0b8c-4cb3-8baa-7d6a90b90590\">\n",
              "    <div class=\"colab-df-container\">\n",
              "      <div>\n",
              "<style scoped>\n",
              "    .dataframe tbody tr th:only-of-type {\n",
              "        vertical-align: middle;\n",
              "    }\n",
              "\n",
              "    .dataframe tbody tr th {\n",
              "        vertical-align: top;\n",
              "    }\n",
              "\n",
              "    .dataframe thead th {\n",
              "        text-align: right;\n",
              "    }\n",
              "</style>\n",
              "<table border=\"1\" class=\"dataframe\">\n",
              "  <thead>\n",
              "    <tr style=\"text-align: right;\">\n",
              "      <th></th>\n",
              "      <th>jobId</th>\n",
              "      <th>companyId</th>\n",
              "      <th>jobType</th>\n",
              "      <th>degree</th>\n",
              "      <th>major</th>\n",
              "      <th>industry</th>\n",
              "      <th>yearsExperience</th>\n",
              "      <th>milesFromMetropolis</th>\n",
              "      <th>salary</th>\n",
              "    </tr>\n",
              "  </thead>\n",
              "  <tbody>\n",
              "    <tr>\n",
              "      <th>0</th>\n",
              "      <td>JOB1362684407687</td>\n",
              "      <td>COMP37</td>\n",
              "      <td>CFO</td>\n",
              "      <td>MASTERS</td>\n",
              "      <td>MATH</td>\n",
              "      <td>HEALTH</td>\n",
              "      <td>10</td>\n",
              "      <td>83</td>\n",
              "      <td>130</td>\n",
              "    </tr>\n",
              "    <tr>\n",
              "      <th>1</th>\n",
              "      <td>JOB1362684407688</td>\n",
              "      <td>COMP19</td>\n",
              "      <td>CEO</td>\n",
              "      <td>HIGH_SCHOOL</td>\n",
              "      <td>NONE</td>\n",
              "      <td>WEB</td>\n",
              "      <td>3</td>\n",
              "      <td>73</td>\n",
              "      <td>101</td>\n",
              "    </tr>\n",
              "    <tr>\n",
              "      <th>2</th>\n",
              "      <td>JOB1362684407689</td>\n",
              "      <td>COMP52</td>\n",
              "      <td>VICE_PRESIDENT</td>\n",
              "      <td>DOCTORAL</td>\n",
              "      <td>PHYSICS</td>\n",
              "      <td>HEALTH</td>\n",
              "      <td>10</td>\n",
              "      <td>38</td>\n",
              "      <td>137</td>\n",
              "    </tr>\n",
              "    <tr>\n",
              "      <th>3</th>\n",
              "      <td>JOB1362684407690</td>\n",
              "      <td>COMP38</td>\n",
              "      <td>MANAGER</td>\n",
              "      <td>DOCTORAL</td>\n",
              "      <td>CHEMISTRY</td>\n",
              "      <td>AUTO</td>\n",
              "      <td>8</td>\n",
              "      <td>17</td>\n",
              "      <td>142</td>\n",
              "    </tr>\n",
              "    <tr>\n",
              "      <th>4</th>\n",
              "      <td>JOB1362684407691</td>\n",
              "      <td>COMP7</td>\n",
              "      <td>VICE_PRESIDENT</td>\n",
              "      <td>BACHELORS</td>\n",
              "      <td>PHYSICS</td>\n",
              "      <td>FINANCE</td>\n",
              "      <td>8</td>\n",
              "      <td>16</td>\n",
              "      <td>163</td>\n",
              "    </tr>\n",
              "    <tr>\n",
              "      <th>...</th>\n",
              "      <td>...</td>\n",
              "      <td>...</td>\n",
              "      <td>...</td>\n",
              "      <td>...</td>\n",
              "      <td>...</td>\n",
              "      <td>...</td>\n",
              "      <td>...</td>\n",
              "      <td>...</td>\n",
              "      <td>...</td>\n",
              "    </tr>\n",
              "    <tr>\n",
              "      <th>999995</th>\n",
              "      <td>JOB1362685407682</td>\n",
              "      <td>COMP56</td>\n",
              "      <td>VICE_PRESIDENT</td>\n",
              "      <td>BACHELORS</td>\n",
              "      <td>CHEMISTRY</td>\n",
              "      <td>HEALTH</td>\n",
              "      <td>19</td>\n",
              "      <td>94</td>\n",
              "      <td>88</td>\n",
              "    </tr>\n",
              "    <tr>\n",
              "      <th>999996</th>\n",
              "      <td>JOB1362685407683</td>\n",
              "      <td>COMP24</td>\n",
              "      <td>CTO</td>\n",
              "      <td>HIGH_SCHOOL</td>\n",
              "      <td>NONE</td>\n",
              "      <td>FINANCE</td>\n",
              "      <td>12</td>\n",
              "      <td>35</td>\n",
              "      <td>160</td>\n",
              "    </tr>\n",
              "    <tr>\n",
              "      <th>999997</th>\n",
              "      <td>JOB1362685407684</td>\n",
              "      <td>COMP23</td>\n",
              "      <td>JUNIOR</td>\n",
              "      <td>HIGH_SCHOOL</td>\n",
              "      <td>NONE</td>\n",
              "      <td>EDUCATION</td>\n",
              "      <td>16</td>\n",
              "      <td>81</td>\n",
              "      <td>64</td>\n",
              "    </tr>\n",
              "    <tr>\n",
              "      <th>999998</th>\n",
              "      <td>JOB1362685407685</td>\n",
              "      <td>COMP3</td>\n",
              "      <td>CFO</td>\n",
              "      <td>MASTERS</td>\n",
              "      <td>NONE</td>\n",
              "      <td>HEALTH</td>\n",
              "      <td>6</td>\n",
              "      <td>5</td>\n",
              "      <td>149</td>\n",
              "    </tr>\n",
              "    <tr>\n",
              "      <th>999999</th>\n",
              "      <td>JOB1362685407686</td>\n",
              "      <td>COMP59</td>\n",
              "      <td>JUNIOR</td>\n",
              "      <td>BACHELORS</td>\n",
              "      <td>NONE</td>\n",
              "      <td>EDUCATION</td>\n",
              "      <td>20</td>\n",
              "      <td>11</td>\n",
              "      <td>88</td>\n",
              "    </tr>\n",
              "  </tbody>\n",
              "</table>\n",
              "<p>1000000 rows × 9 columns</p>\n",
              "</div>\n",
              "      <button class=\"colab-df-convert\" onclick=\"convertToInteractive('df-27462d25-0b8c-4cb3-8baa-7d6a90b90590')\"\n",
              "              title=\"Convert this dataframe to an interactive table.\"\n",
              "              style=\"display:none;\">\n",
              "        \n",
              "  <svg xmlns=\"http://www.w3.org/2000/svg\" height=\"24px\"viewBox=\"0 0 24 24\"\n",
              "       width=\"24px\">\n",
              "    <path d=\"M0 0h24v24H0V0z\" fill=\"none\"/>\n",
              "    <path d=\"M18.56 5.44l.94 2.06.94-2.06 2.06-.94-2.06-.94-.94-2.06-.94 2.06-2.06.94zm-11 1L8.5 8.5l.94-2.06 2.06-.94-2.06-.94L8.5 2.5l-.94 2.06-2.06.94zm10 10l.94 2.06.94-2.06 2.06-.94-2.06-.94-.94-2.06-.94 2.06-2.06.94z\"/><path d=\"M17.41 7.96l-1.37-1.37c-.4-.4-.92-.59-1.43-.59-.52 0-1.04.2-1.43.59L10.3 9.45l-7.72 7.72c-.78.78-.78 2.05 0 2.83L4 21.41c.39.39.9.59 1.41.59.51 0 1.02-.2 1.41-.59l7.78-7.78 2.81-2.81c.8-.78.8-2.07 0-2.86zM5.41 20L4 18.59l7.72-7.72 1.47 1.35L5.41 20z\"/>\n",
              "  </svg>\n",
              "      </button>\n",
              "      \n",
              "  <style>\n",
              "    .colab-df-container {\n",
              "      display:flex;\n",
              "      flex-wrap:wrap;\n",
              "      gap: 12px;\n",
              "    }\n",
              "\n",
              "    .colab-df-convert {\n",
              "      background-color: #E8F0FE;\n",
              "      border: none;\n",
              "      border-radius: 50%;\n",
              "      cursor: pointer;\n",
              "      display: none;\n",
              "      fill: #1967D2;\n",
              "      height: 32px;\n",
              "      padding: 0 0 0 0;\n",
              "      width: 32px;\n",
              "    }\n",
              "\n",
              "    .colab-df-convert:hover {\n",
              "      background-color: #E2EBFA;\n",
              "      box-shadow: 0px 1px 2px rgba(60, 64, 67, 0.3), 0px 1px 3px 1px rgba(60, 64, 67, 0.15);\n",
              "      fill: #174EA6;\n",
              "    }\n",
              "\n",
              "    [theme=dark] .colab-df-convert {\n",
              "      background-color: #3B4455;\n",
              "      fill: #D2E3FC;\n",
              "    }\n",
              "\n",
              "    [theme=dark] .colab-df-convert:hover {\n",
              "      background-color: #434B5C;\n",
              "      box-shadow: 0px 1px 3px 1px rgba(0, 0, 0, 0.15);\n",
              "      filter: drop-shadow(0px 1px 2px rgba(0, 0, 0, 0.3));\n",
              "      fill: #FFFFFF;\n",
              "    }\n",
              "  </style>\n",
              "\n",
              "      <script>\n",
              "        const buttonEl =\n",
              "          document.querySelector('#df-27462d25-0b8c-4cb3-8baa-7d6a90b90590 button.colab-df-convert');\n",
              "        buttonEl.style.display =\n",
              "          google.colab.kernel.accessAllowed ? 'block' : 'none';\n",
              "\n",
              "        async function convertToInteractive(key) {\n",
              "          const element = document.querySelector('#df-27462d25-0b8c-4cb3-8baa-7d6a90b90590');\n",
              "          const dataTable =\n",
              "            await google.colab.kernel.invokeFunction('convertToInteractive',\n",
              "                                                     [key], {});\n",
              "          if (!dataTable) return;\n",
              "\n",
              "          const docLinkHtml = 'Like what you see? Visit the ' +\n",
              "            '<a target=\"_blank\" href=https://colab.research.google.com/notebooks/data_table.ipynb>data table notebook</a>'\n",
              "            + ' to learn more about interactive tables.';\n",
              "          element.innerHTML = '';\n",
              "          dataTable['output_type'] = 'display_data';\n",
              "          await google.colab.output.renderOutput(dataTable, element);\n",
              "          const docLink = document.createElement('div');\n",
              "          docLink.innerHTML = docLinkHtml;\n",
              "          element.appendChild(docLink);\n",
              "        }\n",
              "      </script>\n",
              "    </div>\n",
              "  </div>\n",
              "  "
            ],
            "text/plain": [
              "                   jobId companyId         jobType       degree      major  \\\n",
              "0       JOB1362684407687    COMP37             CFO      MASTERS       MATH   \n",
              "1       JOB1362684407688    COMP19             CEO  HIGH_SCHOOL       NONE   \n",
              "2       JOB1362684407689    COMP52  VICE_PRESIDENT     DOCTORAL    PHYSICS   \n",
              "3       JOB1362684407690    COMP38         MANAGER     DOCTORAL  CHEMISTRY   \n",
              "4       JOB1362684407691     COMP7  VICE_PRESIDENT    BACHELORS    PHYSICS   \n",
              "...                  ...       ...             ...          ...        ...   \n",
              "999995  JOB1362685407682    COMP56  VICE_PRESIDENT    BACHELORS  CHEMISTRY   \n",
              "999996  JOB1362685407683    COMP24             CTO  HIGH_SCHOOL       NONE   \n",
              "999997  JOB1362685407684    COMP23          JUNIOR  HIGH_SCHOOL       NONE   \n",
              "999998  JOB1362685407685     COMP3             CFO      MASTERS       NONE   \n",
              "999999  JOB1362685407686    COMP59          JUNIOR    BACHELORS       NONE   \n",
              "\n",
              "         industry  yearsExperience  milesFromMetropolis  salary  \n",
              "0          HEALTH               10                   83     130  \n",
              "1             WEB                3                   73     101  \n",
              "2          HEALTH               10                   38     137  \n",
              "3            AUTO                8                   17     142  \n",
              "4         FINANCE                8                   16     163  \n",
              "...           ...              ...                  ...     ...  \n",
              "999995     HEALTH               19                   94      88  \n",
              "999996    FINANCE               12                   35     160  \n",
              "999997  EDUCATION               16                   81      64  \n",
              "999998     HEALTH                6                    5     149  \n",
              "999999  EDUCATION               20                   11      88  \n",
              "\n",
              "[1000000 rows x 9 columns]"
            ]
          },
          "execution_count": 7,
          "metadata": {},
          "output_type": "execute_result"
        }
      ],
      "source": [
        "#Merging our train datasets to create one train dataset\n",
        "train_data=pd.merge(train_data,train_data_salaries,on='jobId')\n",
        "train_data"
      ]
    },
    {
      "cell_type": "code",
      "execution_count": null,
      "metadata": {
        "id": "YK_CpzlxW4tP"
      },
      "outputs": [],
      "source": []
    },
    {
      "cell_type": "markdown",
      "metadata": {
        "id": "qr-6m8-RW-IY"
      },
      "source": [
        "Since our jobId is unique we won't use it for modelling purpose"
      ]
    },
    {
      "cell_type": "code",
      "execution_count": null,
      "metadata": {
        "id": "v8C9evPuXESN"
      },
      "outputs": [],
      "source": [
        "#removing salaries which are less than 30,because it is not expected\n",
        "train_data=train_data[train_data['salary']>30]"
      ]
    },
    {
      "cell_type": "code",
      "execution_count": null,
      "metadata": {
        "colab": {
          "base_uri": "https://localhost:8080/"
        },
        "id": "VtdFB-6cX1GE",
        "outputId": "5e47e512-aa00-4db2-af01-002be233321d"
      },
      "outputs": [
        {
          "data": {
            "text/plain": [
              "Index(['jobId', 'companyId', 'jobType', 'degree', 'major', 'industry',\n",
              "       'yearsExperience', 'milesFromMetropolis', 'salary'],\n",
              "      dtype='object')"
            ]
          },
          "execution_count": 9,
          "metadata": {},
          "output_type": "execute_result"
        }
      ],
      "source": [
        "#columnnames\n",
        "train_data.columns"
      ]
    },
    {
      "cell_type": "code",
      "execution_count": null,
      "metadata": {
        "colab": {
          "base_uri": "https://localhost:8080/"
        },
        "id": "lz8jORAKYB5L",
        "outputId": "4ab039ca-a17a-4c21-afe7-7cda292152d8"
      },
      "outputs": [
        {
          "name": "stdout",
          "output_type": "stream",
          "text": [
            "<class 'pandas.core.frame.DataFrame'>\n",
            "Int64Index: 997548 entries, 0 to 999999\n",
            "Data columns (total 9 columns):\n",
            " #   Column               Non-Null Count   Dtype \n",
            "---  ------               --------------   ----- \n",
            " 0   jobId                997548 non-null  object\n",
            " 1   companyId            997548 non-null  object\n",
            " 2   jobType              997548 non-null  object\n",
            " 3   degree               997548 non-null  object\n",
            " 4   major                997548 non-null  object\n",
            " 5   industry             997548 non-null  object\n",
            " 6   yearsExperience      997548 non-null  int64 \n",
            " 7   milesFromMetropolis  997548 non-null  int64 \n",
            " 8   salary               997548 non-null  int64 \n",
            "dtypes: int64(3), object(6)\n",
            "memory usage: 76.1+ MB\n"
          ]
        }
      ],
      "source": [
        "#info\n",
        "train_data.info()"
      ]
    },
    {
      "cell_type": "markdown",
      "metadata": {
        "id": "JoZ60iUsYM2O"
      },
      "source": [
        "We can see that earlier there was 1 lakh rows but now 997548 rows, because we removed some rows, whose salaries are less than 30"
      ]
    },
    {
      "cell_type": "code",
      "execution_count": null,
      "metadata": {
        "colab": {
          "base_uri": "https://localhost:8080/"
        },
        "id": "OXDssqVcYaMI",
        "outputId": "5806cb66-3a53-4f34-a648-bd46c3295c92"
      },
      "outputs": [
        {
          "name": "stdout",
          "output_type": "stream",
          "text": [
            "<class 'pandas.core.frame.DataFrame'>\n",
            "RangeIndex: 1000000 entries, 0 to 999999\n",
            "Data columns (total 8 columns):\n",
            " #   Column               Non-Null Count    Dtype \n",
            "---  ------               --------------    ----- \n",
            " 0   jobId                1000000 non-null  object\n",
            " 1   companyId            1000000 non-null  object\n",
            " 2   jobType              1000000 non-null  object\n",
            " 3   degree               1000000 non-null  object\n",
            " 4   major                1000000 non-null  object\n",
            " 5   industry             1000000 non-null  object\n",
            " 6   yearsExperience      1000000 non-null  int64 \n",
            " 7   milesFromMetropolis  1000000 non-null  int64 \n",
            "dtypes: int64(2), object(6)\n",
            "memory usage: 61.0+ MB\n"
          ]
        }
      ],
      "source": [
        "#info of test data_set\n",
        "test_data.info()"
      ]
    },
    {
      "cell_type": "code",
      "execution_count": null,
      "metadata": {
        "colab": {
          "base_uri": "https://localhost:8080/",
          "height": 300
        },
        "id": "n1hCZKWbYzUI",
        "outputId": "db355136-9003-47d5-8dc9-094a8bc7013a"
      },
      "outputs": [
        {
          "data": {
            "text/html": [
              "\n",
              "  <div id=\"df-52bab98c-bac8-4867-9843-cb5beb904eb3\">\n",
              "    <div class=\"colab-df-container\">\n",
              "      <div>\n",
              "<style scoped>\n",
              "    .dataframe tbody tr th:only-of-type {\n",
              "        vertical-align: middle;\n",
              "    }\n",
              "\n",
              "    .dataframe tbody tr th {\n",
              "        vertical-align: top;\n",
              "    }\n",
              "\n",
              "    .dataframe thead th {\n",
              "        text-align: right;\n",
              "    }\n",
              "</style>\n",
              "<table border=\"1\" class=\"dataframe\">\n",
              "  <thead>\n",
              "    <tr style=\"text-align: right;\">\n",
              "      <th></th>\n",
              "      <th>yearsExperience</th>\n",
              "      <th>milesFromMetropolis</th>\n",
              "      <th>salary</th>\n",
              "    </tr>\n",
              "  </thead>\n",
              "  <tbody>\n",
              "    <tr>\n",
              "      <th>count</th>\n",
              "      <td>997548.000000</td>\n",
              "      <td>997548.000000</td>\n",
              "      <td>997548.000000</td>\n",
              "    </tr>\n",
              "    <tr>\n",
              "      <th>mean</th>\n",
              "      <td>12.015214</td>\n",
              "      <td>49.458372</td>\n",
              "      <td>116.280462</td>\n",
              "    </tr>\n",
              "    <tr>\n",
              "      <th>std</th>\n",
              "      <td>7.204992</td>\n",
              "      <td>28.863518</td>\n",
              "      <td>38.512936</td>\n",
              "    </tr>\n",
              "    <tr>\n",
              "      <th>min</th>\n",
              "      <td>0.000000</td>\n",
              "      <td>0.000000</td>\n",
              "      <td>31.000000</td>\n",
              "    </tr>\n",
              "    <tr>\n",
              "      <th>25%</th>\n",
              "      <td>6.000000</td>\n",
              "      <td>24.000000</td>\n",
              "      <td>89.000000</td>\n",
              "    </tr>\n",
              "    <tr>\n",
              "      <th>50%</th>\n",
              "      <td>12.000000</td>\n",
              "      <td>49.000000</td>\n",
              "      <td>114.000000</td>\n",
              "    </tr>\n",
              "    <tr>\n",
              "      <th>75%</th>\n",
              "      <td>18.000000</td>\n",
              "      <td>74.000000</td>\n",
              "      <td>141.000000</td>\n",
              "    </tr>\n",
              "    <tr>\n",
              "      <th>max</th>\n",
              "      <td>24.000000</td>\n",
              "      <td>99.000000</td>\n",
              "      <td>301.000000</td>\n",
              "    </tr>\n",
              "  </tbody>\n",
              "</table>\n",
              "</div>\n",
              "      <button class=\"colab-df-convert\" onclick=\"convertToInteractive('df-52bab98c-bac8-4867-9843-cb5beb904eb3')\"\n",
              "              title=\"Convert this dataframe to an interactive table.\"\n",
              "              style=\"display:none;\">\n",
              "        \n",
              "  <svg xmlns=\"http://www.w3.org/2000/svg\" height=\"24px\"viewBox=\"0 0 24 24\"\n",
              "       width=\"24px\">\n",
              "    <path d=\"M0 0h24v24H0V0z\" fill=\"none\"/>\n",
              "    <path d=\"M18.56 5.44l.94 2.06.94-2.06 2.06-.94-2.06-.94-.94-2.06-.94 2.06-2.06.94zm-11 1L8.5 8.5l.94-2.06 2.06-.94-2.06-.94L8.5 2.5l-.94 2.06-2.06.94zm10 10l.94 2.06.94-2.06 2.06-.94-2.06-.94-.94-2.06-.94 2.06-2.06.94z\"/><path d=\"M17.41 7.96l-1.37-1.37c-.4-.4-.92-.59-1.43-.59-.52 0-1.04.2-1.43.59L10.3 9.45l-7.72 7.72c-.78.78-.78 2.05 0 2.83L4 21.41c.39.39.9.59 1.41.59.51 0 1.02-.2 1.41-.59l7.78-7.78 2.81-2.81c.8-.78.8-2.07 0-2.86zM5.41 20L4 18.59l7.72-7.72 1.47 1.35L5.41 20z\"/>\n",
              "  </svg>\n",
              "      </button>\n",
              "      \n",
              "  <style>\n",
              "    .colab-df-container {\n",
              "      display:flex;\n",
              "      flex-wrap:wrap;\n",
              "      gap: 12px;\n",
              "    }\n",
              "\n",
              "    .colab-df-convert {\n",
              "      background-color: #E8F0FE;\n",
              "      border: none;\n",
              "      border-radius: 50%;\n",
              "      cursor: pointer;\n",
              "      display: none;\n",
              "      fill: #1967D2;\n",
              "      height: 32px;\n",
              "      padding: 0 0 0 0;\n",
              "      width: 32px;\n",
              "    }\n",
              "\n",
              "    .colab-df-convert:hover {\n",
              "      background-color: #E2EBFA;\n",
              "      box-shadow: 0px 1px 2px rgba(60, 64, 67, 0.3), 0px 1px 3px 1px rgba(60, 64, 67, 0.15);\n",
              "      fill: #174EA6;\n",
              "    }\n",
              "\n",
              "    [theme=dark] .colab-df-convert {\n",
              "      background-color: #3B4455;\n",
              "      fill: #D2E3FC;\n",
              "    }\n",
              "\n",
              "    [theme=dark] .colab-df-convert:hover {\n",
              "      background-color: #434B5C;\n",
              "      box-shadow: 0px 1px 3px 1px rgba(0, 0, 0, 0.15);\n",
              "      filter: drop-shadow(0px 1px 2px rgba(0, 0, 0, 0.3));\n",
              "      fill: #FFFFFF;\n",
              "    }\n",
              "  </style>\n",
              "\n",
              "      <script>\n",
              "        const buttonEl =\n",
              "          document.querySelector('#df-52bab98c-bac8-4867-9843-cb5beb904eb3 button.colab-df-convert');\n",
              "        buttonEl.style.display =\n",
              "          google.colab.kernel.accessAllowed ? 'block' : 'none';\n",
              "\n",
              "        async function convertToInteractive(key) {\n",
              "          const element = document.querySelector('#df-52bab98c-bac8-4867-9843-cb5beb904eb3');\n",
              "          const dataTable =\n",
              "            await google.colab.kernel.invokeFunction('convertToInteractive',\n",
              "                                                     [key], {});\n",
              "          if (!dataTable) return;\n",
              "\n",
              "          const docLinkHtml = 'Like what you see? Visit the ' +\n",
              "            '<a target=\"_blank\" href=https://colab.research.google.com/notebooks/data_table.ipynb>data table notebook</a>'\n",
              "            + ' to learn more about interactive tables.';\n",
              "          element.innerHTML = '';\n",
              "          dataTable['output_type'] = 'display_data';\n",
              "          await google.colab.output.renderOutput(dataTable, element);\n",
              "          const docLink = document.createElement('div');\n",
              "          docLink.innerHTML = docLinkHtml;\n",
              "          element.appendChild(docLink);\n",
              "        }\n",
              "      </script>\n",
              "    </div>\n",
              "  </div>\n",
              "  "
            ],
            "text/plain": [
              "       yearsExperience  milesFromMetropolis         salary\n",
              "count    997548.000000        997548.000000  997548.000000\n",
              "mean         12.015214            49.458372     116.280462\n",
              "std           7.204992            28.863518      38.512936\n",
              "min           0.000000             0.000000      31.000000\n",
              "25%           6.000000            24.000000      89.000000\n",
              "50%          12.000000            49.000000     114.000000\n",
              "75%          18.000000            74.000000     141.000000\n",
              "max          24.000000            99.000000     301.000000"
            ]
          },
          "execution_count": 12,
          "metadata": {},
          "output_type": "execute_result"
        }
      ],
      "source": [
        "#statistical information of numerical columns\n",
        "train_data.describe()"
      ]
    },
    {
      "cell_type": "code",
      "execution_count": null,
      "metadata": {
        "id": "yY7LWjR4ZDmx"
      },
      "outputs": [],
      "source": []
    },
    {
      "cell_type": "markdown",
      "metadata": {
        "id": "Ws5uu9MxZXQf"
      },
      "source": [
        "We can see that our mean and Median value's are same for all the three numerical columns, so we can say that they are normally distributed"
      ]
    },
    {
      "cell_type": "code",
      "execution_count": null,
      "metadata": {
        "colab": {
          "base_uri": "https://localhost:8080/"
        },
        "id": "kQaNOlcGZVkd",
        "outputId": "612162e7-6bf8-4735-c1df-8939ffb0643a"
      },
      "outputs": [
        {
          "data": {
            "text/plain": [
              "jobId                  0\n",
              "companyId              0\n",
              "jobType                0\n",
              "degree                 0\n",
              "major                  0\n",
              "industry               0\n",
              "yearsExperience        0\n",
              "milesFromMetropolis    0\n",
              "salary                 0\n",
              "dtype: int64"
            ]
          },
          "execution_count": 13,
          "metadata": {},
          "output_type": "execute_result"
        }
      ],
      "source": [
        "#checking_null_values\n",
        "train_data.isnull().sum()"
      ]
    },
    {
      "cell_type": "code",
      "execution_count": null,
      "metadata": {
        "colab": {
          "base_uri": "https://localhost:8080/"
        },
        "id": "RS1xgur5Z_9h",
        "outputId": "0eb5e430-4b0d-48ec-e262-601cbb691a3f"
      },
      "outputs": [
        {
          "data": {
            "text/plain": [
              "jobId                  0\n",
              "companyId              0\n",
              "jobType                0\n",
              "degree                 0\n",
              "major                  0\n",
              "industry               0\n",
              "yearsExperience        0\n",
              "milesFromMetropolis    0\n",
              "dtype: int64"
            ]
          },
          "execution_count": 14,
          "metadata": {},
          "output_type": "execute_result"
        }
      ],
      "source": [
        "test_data.isnull().sum()"
      ]
    },
    {
      "cell_type": "code",
      "execution_count": null,
      "metadata": {
        "colab": {
          "base_uri": "https://localhost:8080/"
        },
        "id": "tUxn8WZoaLi-",
        "outputId": "a3159259-6ed8-4839-afb8-f051a614285c"
      },
      "outputs": [
        {
          "name": "stdout",
          "output_type": "stream",
          "text": [
            "jobId : 997548\n",
            "companyId : 63\n",
            "jobType : 8\n",
            "degree : 5\n",
            "major : 9\n",
            "industry : 7\n",
            "yearsExperience : 25\n",
            "milesFromMetropolis : 100\n",
            "salary : 265\n"
          ]
        }
      ],
      "source": [
        "#Unique values in each column of a dataset\n",
        "for x in train_data.columns:\n",
        "  print(x,':',len(train_data[x].unique()))"
      ]
    },
    {
      "cell_type": "code",
      "execution_count": null,
      "metadata": {
        "colab": {
          "base_uri": "https://localhost:8080/"
        },
        "id": "oiRdIDKMa9UV",
        "outputId": "34d18899-afd9-4ad7-e391-f3877f9ff2af"
      },
      "outputs": [
        {
          "name": "stdout",
          "output_type": "stream",
          "text": [
            "jobId : 1000000\n",
            "companyId : 63\n",
            "jobType : 8\n",
            "degree : 5\n",
            "major : 9\n",
            "industry : 7\n",
            "yearsExperience : 25\n",
            "milesFromMetropolis : 100\n"
          ]
        }
      ],
      "source": [
        "#unique value in test dataset\n",
        "for x in test_data.columns:\n",
        "  print(x,':',len(test_data[x].unique()))"
      ]
    },
    {
      "cell_type": "code",
      "execution_count": null,
      "metadata": {
        "colab": {
          "base_uri": "https://localhost:8080/",
          "height": 424
        },
        "id": "YOEQ1MfQbStB",
        "outputId": "b1ce94ca-a73c-4926-8bc9-a16aad220ef1"
      },
      "outputs": [
        {
          "data": {
            "text/html": [
              "\n",
              "  <div id=\"df-e329a016-a6e7-4b66-ae18-65423b060d27\">\n",
              "    <div class=\"colab-df-container\">\n",
              "      <div>\n",
              "<style scoped>\n",
              "    .dataframe tbody tr th:only-of-type {\n",
              "        vertical-align: middle;\n",
              "    }\n",
              "\n",
              "    .dataframe tbody tr th {\n",
              "        vertical-align: top;\n",
              "    }\n",
              "\n",
              "    .dataframe thead th {\n",
              "        text-align: right;\n",
              "    }\n",
              "</style>\n",
              "<table border=\"1\" class=\"dataframe\">\n",
              "  <thead>\n",
              "    <tr style=\"text-align: right;\">\n",
              "      <th></th>\n",
              "      <th>jobType</th>\n",
              "      <th>degree</th>\n",
              "      <th>major</th>\n",
              "      <th>industry</th>\n",
              "      <th>yearsExperience</th>\n",
              "      <th>milesFromMetropolis</th>\n",
              "      <th>salary</th>\n",
              "    </tr>\n",
              "  </thead>\n",
              "  <tbody>\n",
              "    <tr>\n",
              "      <th>0</th>\n",
              "      <td>CFO</td>\n",
              "      <td>MASTERS</td>\n",
              "      <td>MATH</td>\n",
              "      <td>HEALTH</td>\n",
              "      <td>10</td>\n",
              "      <td>83</td>\n",
              "      <td>130</td>\n",
              "    </tr>\n",
              "    <tr>\n",
              "      <th>1</th>\n",
              "      <td>CEO</td>\n",
              "      <td>HIGH_SCHOOL</td>\n",
              "      <td>NONE</td>\n",
              "      <td>WEB</td>\n",
              "      <td>3</td>\n",
              "      <td>73</td>\n",
              "      <td>101</td>\n",
              "    </tr>\n",
              "    <tr>\n",
              "      <th>2</th>\n",
              "      <td>VICE_PRESIDENT</td>\n",
              "      <td>DOCTORAL</td>\n",
              "      <td>PHYSICS</td>\n",
              "      <td>HEALTH</td>\n",
              "      <td>10</td>\n",
              "      <td>38</td>\n",
              "      <td>137</td>\n",
              "    </tr>\n",
              "    <tr>\n",
              "      <th>3</th>\n",
              "      <td>MANAGER</td>\n",
              "      <td>DOCTORAL</td>\n",
              "      <td>CHEMISTRY</td>\n",
              "      <td>AUTO</td>\n",
              "      <td>8</td>\n",
              "      <td>17</td>\n",
              "      <td>142</td>\n",
              "    </tr>\n",
              "    <tr>\n",
              "      <th>4</th>\n",
              "      <td>VICE_PRESIDENT</td>\n",
              "      <td>BACHELORS</td>\n",
              "      <td>PHYSICS</td>\n",
              "      <td>FINANCE</td>\n",
              "      <td>8</td>\n",
              "      <td>16</td>\n",
              "      <td>163</td>\n",
              "    </tr>\n",
              "    <tr>\n",
              "      <th>...</th>\n",
              "      <td>...</td>\n",
              "      <td>...</td>\n",
              "      <td>...</td>\n",
              "      <td>...</td>\n",
              "      <td>...</td>\n",
              "      <td>...</td>\n",
              "      <td>...</td>\n",
              "    </tr>\n",
              "    <tr>\n",
              "      <th>999995</th>\n",
              "      <td>VICE_PRESIDENT</td>\n",
              "      <td>BACHELORS</td>\n",
              "      <td>CHEMISTRY</td>\n",
              "      <td>HEALTH</td>\n",
              "      <td>19</td>\n",
              "      <td>94</td>\n",
              "      <td>88</td>\n",
              "    </tr>\n",
              "    <tr>\n",
              "      <th>999996</th>\n",
              "      <td>CTO</td>\n",
              "      <td>HIGH_SCHOOL</td>\n",
              "      <td>NONE</td>\n",
              "      <td>FINANCE</td>\n",
              "      <td>12</td>\n",
              "      <td>35</td>\n",
              "      <td>160</td>\n",
              "    </tr>\n",
              "    <tr>\n",
              "      <th>999997</th>\n",
              "      <td>JUNIOR</td>\n",
              "      <td>HIGH_SCHOOL</td>\n",
              "      <td>NONE</td>\n",
              "      <td>EDUCATION</td>\n",
              "      <td>16</td>\n",
              "      <td>81</td>\n",
              "      <td>64</td>\n",
              "    </tr>\n",
              "    <tr>\n",
              "      <th>999998</th>\n",
              "      <td>CFO</td>\n",
              "      <td>MASTERS</td>\n",
              "      <td>NONE</td>\n",
              "      <td>HEALTH</td>\n",
              "      <td>6</td>\n",
              "      <td>5</td>\n",
              "      <td>149</td>\n",
              "    </tr>\n",
              "    <tr>\n",
              "      <th>999999</th>\n",
              "      <td>JUNIOR</td>\n",
              "      <td>BACHELORS</td>\n",
              "      <td>NONE</td>\n",
              "      <td>EDUCATION</td>\n",
              "      <td>20</td>\n",
              "      <td>11</td>\n",
              "      <td>88</td>\n",
              "    </tr>\n",
              "  </tbody>\n",
              "</table>\n",
              "<p>997548 rows × 7 columns</p>\n",
              "</div>\n",
              "      <button class=\"colab-df-convert\" onclick=\"convertToInteractive('df-e329a016-a6e7-4b66-ae18-65423b060d27')\"\n",
              "              title=\"Convert this dataframe to an interactive table.\"\n",
              "              style=\"display:none;\">\n",
              "        \n",
              "  <svg xmlns=\"http://www.w3.org/2000/svg\" height=\"24px\"viewBox=\"0 0 24 24\"\n",
              "       width=\"24px\">\n",
              "    <path d=\"M0 0h24v24H0V0z\" fill=\"none\"/>\n",
              "    <path d=\"M18.56 5.44l.94 2.06.94-2.06 2.06-.94-2.06-.94-.94-2.06-.94 2.06-2.06.94zm-11 1L8.5 8.5l.94-2.06 2.06-.94-2.06-.94L8.5 2.5l-.94 2.06-2.06.94zm10 10l.94 2.06.94-2.06 2.06-.94-2.06-.94-.94-2.06-.94 2.06-2.06.94z\"/><path d=\"M17.41 7.96l-1.37-1.37c-.4-.4-.92-.59-1.43-.59-.52 0-1.04.2-1.43.59L10.3 9.45l-7.72 7.72c-.78.78-.78 2.05 0 2.83L4 21.41c.39.39.9.59 1.41.59.51 0 1.02-.2 1.41-.59l7.78-7.78 2.81-2.81c.8-.78.8-2.07 0-2.86zM5.41 20L4 18.59l7.72-7.72 1.47 1.35L5.41 20z\"/>\n",
              "  </svg>\n",
              "      </button>\n",
              "      \n",
              "  <style>\n",
              "    .colab-df-container {\n",
              "      display:flex;\n",
              "      flex-wrap:wrap;\n",
              "      gap: 12px;\n",
              "    }\n",
              "\n",
              "    .colab-df-convert {\n",
              "      background-color: #E8F0FE;\n",
              "      border: none;\n",
              "      border-radius: 50%;\n",
              "      cursor: pointer;\n",
              "      display: none;\n",
              "      fill: #1967D2;\n",
              "      height: 32px;\n",
              "      padding: 0 0 0 0;\n",
              "      width: 32px;\n",
              "    }\n",
              "\n",
              "    .colab-df-convert:hover {\n",
              "      background-color: #E2EBFA;\n",
              "      box-shadow: 0px 1px 2px rgba(60, 64, 67, 0.3), 0px 1px 3px 1px rgba(60, 64, 67, 0.15);\n",
              "      fill: #174EA6;\n",
              "    }\n",
              "\n",
              "    [theme=dark] .colab-df-convert {\n",
              "      background-color: #3B4455;\n",
              "      fill: #D2E3FC;\n",
              "    }\n",
              "\n",
              "    [theme=dark] .colab-df-convert:hover {\n",
              "      background-color: #434B5C;\n",
              "      box-shadow: 0px 1px 3px 1px rgba(0, 0, 0, 0.15);\n",
              "      filter: drop-shadow(0px 1px 2px rgba(0, 0, 0, 0.3));\n",
              "      fill: #FFFFFF;\n",
              "    }\n",
              "  </style>\n",
              "\n",
              "      <script>\n",
              "        const buttonEl =\n",
              "          document.querySelector('#df-e329a016-a6e7-4b66-ae18-65423b060d27 button.colab-df-convert');\n",
              "        buttonEl.style.display =\n",
              "          google.colab.kernel.accessAllowed ? 'block' : 'none';\n",
              "\n",
              "        async function convertToInteractive(key) {\n",
              "          const element = document.querySelector('#df-e329a016-a6e7-4b66-ae18-65423b060d27');\n",
              "          const dataTable =\n",
              "            await google.colab.kernel.invokeFunction('convertToInteractive',\n",
              "                                                     [key], {});\n",
              "          if (!dataTable) return;\n",
              "\n",
              "          const docLinkHtml = 'Like what you see? Visit the ' +\n",
              "            '<a target=\"_blank\" href=https://colab.research.google.com/notebooks/data_table.ipynb>data table notebook</a>'\n",
              "            + ' to learn more about interactive tables.';\n",
              "          element.innerHTML = '';\n",
              "          dataTable['output_type'] = 'display_data';\n",
              "          await google.colab.output.renderOutput(dataTable, element);\n",
              "          const docLink = document.createElement('div');\n",
              "          docLink.innerHTML = docLinkHtml;\n",
              "          element.appendChild(docLink);\n",
              "        }\n",
              "      </script>\n",
              "    </div>\n",
              "  </div>\n",
              "  "
            ],
            "text/plain": [
              "               jobType       degree      major   industry  yearsExperience  \\\n",
              "0                  CFO      MASTERS       MATH     HEALTH               10   \n",
              "1                  CEO  HIGH_SCHOOL       NONE        WEB                3   \n",
              "2       VICE_PRESIDENT     DOCTORAL    PHYSICS     HEALTH               10   \n",
              "3              MANAGER     DOCTORAL  CHEMISTRY       AUTO                8   \n",
              "4       VICE_PRESIDENT    BACHELORS    PHYSICS    FINANCE                8   \n",
              "...                ...          ...        ...        ...              ...   \n",
              "999995  VICE_PRESIDENT    BACHELORS  CHEMISTRY     HEALTH               19   \n",
              "999996             CTO  HIGH_SCHOOL       NONE    FINANCE               12   \n",
              "999997          JUNIOR  HIGH_SCHOOL       NONE  EDUCATION               16   \n",
              "999998             CFO      MASTERS       NONE     HEALTH                6   \n",
              "999999          JUNIOR    BACHELORS       NONE  EDUCATION               20   \n",
              "\n",
              "        milesFromMetropolis  salary  \n",
              "0                        83     130  \n",
              "1                        73     101  \n",
              "2                        38     137  \n",
              "3                        17     142  \n",
              "4                        16     163  \n",
              "...                     ...     ...  \n",
              "999995                   94      88  \n",
              "999996                   35     160  \n",
              "999997                   81      64  \n",
              "999998                    5     149  \n",
              "999999                   11      88  \n",
              "\n",
              "[997548 rows x 7 columns]"
            ]
          },
          "execution_count": 17,
          "metadata": {},
          "output_type": "execute_result"
        }
      ],
      "source": [
        "#drop jobid and companyid from train_dataset\n",
        "train_data=train_data.drop(['jobId','companyId'],axis=1)\n",
        "train_data"
      ]
    },
    {
      "cell_type": "code",
      "execution_count": null,
      "metadata": {
        "id": "VCGoXDkDcLpT"
      },
      "outputs": [],
      "source": []
    },
    {
      "cell_type": "markdown",
      "metadata": {
        "id": "1w8AKYJbdSZO"
      },
      "source": [
        "We have seen that there are more categorical variable then numerical variable through info"
      ]
    },
    {
      "cell_type": "code",
      "execution_count": null,
      "metadata": {
        "id": "-yJKgTlOdatz"
      },
      "outputs": [],
      "source": [
        "#creating two empty list to store categorical column names and numerical column names\n",
        "categorical_list=[]\n",
        "var_list=[]\n",
        "\n",
        "#looping through columns to bifercate numerical and categorical\n",
        "for x in train_data.columns:\n",
        "  if train_data[x].dtype=='object':\n",
        "    categorical_list.append(x)\n",
        "  elif train_data[x].dtype=='int64':\n",
        "    var_list.append(x)\n",
        "  elif train_data[x].dtype=='float64':\n",
        "    var_list.append(x)\n",
        "    \n"
      ]
    },
    {
      "cell_type": "code",
      "execution_count": null,
      "metadata": {
        "id": "3ckU-qVBfZe4"
      },
      "outputs": [],
      "source": []
    },
    {
      "cell_type": "code",
      "execution_count": null,
      "metadata": {
        "colab": {
          "base_uri": "https://localhost:8080/"
        },
        "id": "IuaGltYdeqfb",
        "outputId": "58df43c0-31a2-42ff-82b9-3b3b09b4fd6b"
      },
      "outputs": [
        {
          "name": "stdout",
          "output_type": "stream",
          "text": [
            "categorical_list:['jobType', 'degree', 'major', 'industry']\n",
            "var_list :['yearsExperience', 'milesFromMetropolis', 'salary']\n"
          ]
        }
      ],
      "source": [
        "print(\"categorical_list:{}\".format(categorical_list))\n",
        "print(\"var_list :{}\".format(var_list))"
      ]
    },
    {
      "cell_type": "code",
      "execution_count": null,
      "metadata": {
        "colab": {
          "base_uri": "https://localhost:8080/",
          "height": 143
        },
        "id": "0_3jyqVifcAT",
        "outputId": "ef24832b-6767-458e-c393-8b8221539d59"
      },
      "outputs": [
        {
          "data": {
            "text/html": [
              "\n",
              "  <div id=\"df-70f480cd-dbff-46c2-a1a9-4d36b635ad43\">\n",
              "    <div class=\"colab-df-container\">\n",
              "      <div>\n",
              "<style scoped>\n",
              "    .dataframe tbody tr th:only-of-type {\n",
              "        vertical-align: middle;\n",
              "    }\n",
              "\n",
              "    .dataframe tbody tr th {\n",
              "        vertical-align: top;\n",
              "    }\n",
              "\n",
              "    .dataframe thead th {\n",
              "        text-align: right;\n",
              "    }\n",
              "</style>\n",
              "<table border=\"1\" class=\"dataframe\">\n",
              "  <thead>\n",
              "    <tr style=\"text-align: right;\">\n",
              "      <th></th>\n",
              "      <th>yearsExperience</th>\n",
              "      <th>milesFromMetropolis</th>\n",
              "      <th>salary</th>\n",
              "    </tr>\n",
              "  </thead>\n",
              "  <tbody>\n",
              "    <tr>\n",
              "      <th>yearsExperience</th>\n",
              "      <td>1.000000</td>\n",
              "      <td>0.003642</td>\n",
              "      <td>0.370974</td>\n",
              "    </tr>\n",
              "    <tr>\n",
              "      <th>milesFromMetropolis</th>\n",
              "      <td>0.003642</td>\n",
              "      <td>1.000000</td>\n",
              "      <td>-0.294435</td>\n",
              "    </tr>\n",
              "    <tr>\n",
              "      <th>salary</th>\n",
              "      <td>0.370974</td>\n",
              "      <td>-0.294435</td>\n",
              "      <td>1.000000</td>\n",
              "    </tr>\n",
              "  </tbody>\n",
              "</table>\n",
              "</div>\n",
              "      <button class=\"colab-df-convert\" onclick=\"convertToInteractive('df-70f480cd-dbff-46c2-a1a9-4d36b635ad43')\"\n",
              "              title=\"Convert this dataframe to an interactive table.\"\n",
              "              style=\"display:none;\">\n",
              "        \n",
              "  <svg xmlns=\"http://www.w3.org/2000/svg\" height=\"24px\"viewBox=\"0 0 24 24\"\n",
              "       width=\"24px\">\n",
              "    <path d=\"M0 0h24v24H0V0z\" fill=\"none\"/>\n",
              "    <path d=\"M18.56 5.44l.94 2.06.94-2.06 2.06-.94-2.06-.94-.94-2.06-.94 2.06-2.06.94zm-11 1L8.5 8.5l.94-2.06 2.06-.94-2.06-.94L8.5 2.5l-.94 2.06-2.06.94zm10 10l.94 2.06.94-2.06 2.06-.94-2.06-.94-.94-2.06-.94 2.06-2.06.94z\"/><path d=\"M17.41 7.96l-1.37-1.37c-.4-.4-.92-.59-1.43-.59-.52 0-1.04.2-1.43.59L10.3 9.45l-7.72 7.72c-.78.78-.78 2.05 0 2.83L4 21.41c.39.39.9.59 1.41.59.51 0 1.02-.2 1.41-.59l7.78-7.78 2.81-2.81c.8-.78.8-2.07 0-2.86zM5.41 20L4 18.59l7.72-7.72 1.47 1.35L5.41 20z\"/>\n",
              "  </svg>\n",
              "      </button>\n",
              "      \n",
              "  <style>\n",
              "    .colab-df-container {\n",
              "      display:flex;\n",
              "      flex-wrap:wrap;\n",
              "      gap: 12px;\n",
              "    }\n",
              "\n",
              "    .colab-df-convert {\n",
              "      background-color: #E8F0FE;\n",
              "      border: none;\n",
              "      border-radius: 50%;\n",
              "      cursor: pointer;\n",
              "      display: none;\n",
              "      fill: #1967D2;\n",
              "      height: 32px;\n",
              "      padding: 0 0 0 0;\n",
              "      width: 32px;\n",
              "    }\n",
              "\n",
              "    .colab-df-convert:hover {\n",
              "      background-color: #E2EBFA;\n",
              "      box-shadow: 0px 1px 2px rgba(60, 64, 67, 0.3), 0px 1px 3px 1px rgba(60, 64, 67, 0.15);\n",
              "      fill: #174EA6;\n",
              "    }\n",
              "\n",
              "    [theme=dark] .colab-df-convert {\n",
              "      background-color: #3B4455;\n",
              "      fill: #D2E3FC;\n",
              "    }\n",
              "\n",
              "    [theme=dark] .colab-df-convert:hover {\n",
              "      background-color: #434B5C;\n",
              "      box-shadow: 0px 1px 3px 1px rgba(0, 0, 0, 0.15);\n",
              "      filter: drop-shadow(0px 1px 2px rgba(0, 0, 0, 0.3));\n",
              "      fill: #FFFFFF;\n",
              "    }\n",
              "  </style>\n",
              "\n",
              "      <script>\n",
              "        const buttonEl =\n",
              "          document.querySelector('#df-70f480cd-dbff-46c2-a1a9-4d36b635ad43 button.colab-df-convert');\n",
              "        buttonEl.style.display =\n",
              "          google.colab.kernel.accessAllowed ? 'block' : 'none';\n",
              "\n",
              "        async function convertToInteractive(key) {\n",
              "          const element = document.querySelector('#df-70f480cd-dbff-46c2-a1a9-4d36b635ad43');\n",
              "          const dataTable =\n",
              "            await google.colab.kernel.invokeFunction('convertToInteractive',\n",
              "                                                     [key], {});\n",
              "          if (!dataTable) return;\n",
              "\n",
              "          const docLinkHtml = 'Like what you see? Visit the ' +\n",
              "            '<a target=\"_blank\" href=https://colab.research.google.com/notebooks/data_table.ipynb>data table notebook</a>'\n",
              "            + ' to learn more about interactive tables.';\n",
              "          element.innerHTML = '';\n",
              "          dataTable['output_type'] = 'display_data';\n",
              "          await google.colab.output.renderOutput(dataTable, element);\n",
              "          const docLink = document.createElement('div');\n",
              "          docLink.innerHTML = docLinkHtml;\n",
              "          element.appendChild(docLink);\n",
              "        }\n",
              "      </script>\n",
              "    </div>\n",
              "  </div>\n",
              "  "
            ],
            "text/plain": [
              "                     yearsExperience  milesFromMetropolis    salary\n",
              "yearsExperience             1.000000             0.003642  0.370974\n",
              "milesFromMetropolis         0.003642             1.000000 -0.294435\n",
              "salary                      0.370974            -0.294435  1.000000"
            ]
          },
          "execution_count": 20,
          "metadata": {},
          "output_type": "execute_result"
        }
      ],
      "source": [
        "#Correlation matrix\n",
        "corr=train_data.corr()\n",
        "corr"
      ]
    },
    {
      "cell_type": "code",
      "execution_count": null,
      "metadata": {
        "colab": {
          "base_uri": "https://localhost:8080/",
          "height": 379
        },
        "id": "E0YnPrDafknv",
        "outputId": "50e68865-35ab-41ca-8fd5-0ac36a37b460"
      },
      "outputs": [
        {
          "data": {
            "text/plain": [
              "<matplotlib.axes._subplots.AxesSubplot at 0x7f88fdb14c40>"
            ]
          },
          "execution_count": 21,
          "metadata": {},
          "output_type": "execute_result"
        },
        {
          "data": {
            "image/png": "[encoded data removed]",
            "text/plain": [
              "<Figure size 432x288 with 2 Axes>"
            ]
          },
          "metadata": {},
          "output_type": "display_data"
        }
      ],
      "source": [
        "#heatmap of correlation matrix\n",
        "seaborn.heatmap(corr,annot=True)"
      ]
    },
    {
      "cell_type": "markdown",
      "metadata": {
        "id": "XqQtipnvgAJa"
      },
      "source": [
        "We can see that\n",
        "1.)yearsExperience is positively correlated with Salary and milesfromMetropolis"
      ]
    },
    {
      "cell_type": "code",
      "execution_count": null,
      "metadata": {
        "id": "dRd_XW-MftDx"
      },
      "outputs": [],
      "source": []
    },
    {
      "cell_type": "markdown",
      "metadata": {
        "id": "YEh1tmraKZNZ"
      },
      "source": [
        "Chi-sq-test-It is used to check whether the two categorical variables are independed or not or say uncorrelated or not"
      ]
    },
    {
      "cell_type": "code",
      "execution_count": null,
      "metadata": {
        "colab": {
          "base_uri": "https://localhost:8080/"
        },
        "id": "kiJgu1SDKo0E",
        "outputId": "9266b37a-085c-4197-94c8-bc2df7ec4fe8"
      },
      "outputs": [
        {
          "name": "stdout",
          "output_type": "stream",
          "text": [
            "['jobType', 'degree', 'major', 'industry']\n"
          ]
        }
      ],
      "source": [
        "print(categorical_list)"
      ]
    },
    {
      "cell_type": "markdown",
      "metadata": {
        "id": "BA2NOKFPKtHy"
      },
      "source": [
        "H0:There is no relationship between two categorical variable that is they are independent\n",
        "\n",
        "H1:there is relationship between two categorical variable"
      ]
    },
    {
      "cell_type": "code",
      "execution_count": null,
      "metadata": {
        "id": "bZ8-ehOeK_7I"
      },
      "outputs": [],
      "source": [
        "\n"
      ]
    },
    {
      "cell_type": "code",
      "execution_count": null,
      "metadata": {
        "id": "h9AJzpNHMG6X"
      },
      "outputs": [],
      "source": []
    },
    {
      "cell_type": "code",
      "execution_count": null,
      "metadata": {
        "colab": {
          "base_uri": "https://localhost:8080/",
          "height": 296
        },
        "id": "Vb2Vd4M0aIzL",
        "outputId": "77561242-d9a0-4e95-853e-5213c03a1c79"
      },
      "outputs": [
        {
          "data": {
            "text/plain": [
              "<matplotlib.axes._subplots.AxesSubplot at 0x7f88fb19c790>"
            ]
          },
          "execution_count": 23,
          "metadata": {},
          "output_type": "execute_result"
        },
        {
          "data": {
            "image/png": "[encoded data removed]",
            "text/plain": [
              "<Figure size 432x288 with 1 Axes>"
            ]
          },
          "metadata": {},
          "output_type": "display_data"
        }
      ],
      "source": [
        "#Detecting Outlier\n",
        "\n",
        "seaborn.boxplot('yearsExperience',data=train_data)"
      ]
    },
    {
      "cell_type": "markdown",
      "metadata": {
        "id": "V2tiS_BoPe6b"
      },
      "source": [
        "We can see that there is no Outlier\n",
        "1.)25% of Employees have 0 to 7 years of Experience\n",
        "\n",
        "2.)25% of Employees have 7 to 12 years of Experience\n",
        "\n",
        "3.)25% of Employees have 12 to 18 years of Experience\n",
        "\n",
        "4.)25% of Employees have 18 to 25 years of Experience"
      ]
    },
    {
      "cell_type": "code",
      "execution_count": null,
      "metadata": {
        "colab": {
          "base_uri": "https://localhost:8080/",
          "height": 296
        },
        "id": "YU3BwzqYPcpz",
        "outputId": "c569566c-9aee-4c8f-a43b-597da8e327a1"
      },
      "outputs": [
        {
          "data": {
            "text/plain": [
              "<matplotlib.axes._subplots.AxesSubplot at 0x7f88facd3040>"
            ]
          },
          "execution_count": 24,
          "metadata": {},
          "output_type": "execute_result"
        },
        {
          "data": {
            "image/png": "[encoded data removed]",
            "text/plain": [
              "<Figure size 432x288 with 1 Axes>"
            ]
          },
          "metadata": {},
          "output_type": "display_data"
        }
      ],
      "source": [
        "seaborn.boxplot('milesFromMetropolis',data=train_data)"
      ]
    },
    {
      "cell_type": "markdown",
      "metadata": {
        "id": "h25ArsbvQhvG"
      },
      "source": [
        "We can see that there is no outlier\n",
        "\n",
        "1.)25% of People lives in 0 to 22 miles from Metropolis\n",
        "\n",
        "2.)25% of People lives in 22 to 50 miles from Metropolis\n",
        "\n",
        "3.)25% of People lives in 45 to 75 miles from Metropolis\n",
        "\n",
        "4.)25% of People lives in 75 to 100 miles from Metropolis"
      ]
    },
    {
      "cell_type": "code",
      "execution_count": null,
      "metadata": {
        "colab": {
          "base_uri": "https://localhost:8080/",
          "height": 296
        },
        "id": "rzSSOK6xRx0M",
        "outputId": "7f7bf3a0-e51e-4166-e177-f59b7e420c02"
      },
      "outputs": [
        {
          "data": {
            "text/plain": [
              "<matplotlib.axes._subplots.AxesSubplot at 0x7f88fac1adf0>"
            ]
          },
          "execution_count": 25,
          "metadata": {},
          "output_type": "execute_result"
        },
        {
          "data": {
            "image/png": "[encoded data removed]",
            "text/plain": [
              "<Figure size 432x288 with 1 Axes>"
            ]
          },
          "metadata": {},
          "output_type": "display_data"
        }
      ],
      "source": [
        "seaborn.boxplot('salary',data=train_data)"
      ]
    },
    {
      "cell_type": "code",
      "execution_count": null,
      "metadata": {
        "colab": {
          "base_uri": "https://localhost:8080/",
          "height": 1000
        },
        "id": "ZH8gywocBEyA",
        "outputId": "a42ae1ac-5a89-48c3-8fbe-92c04ea4992d"
      },
      "outputs": [
        {
          "data": {
            "image/png": "[encoded data removed]",
            "text/plain": [
              "<Figure size 432x288 with 1 Axes>"
            ]
          },
          "metadata": {},
          "output_type": "display_data"
        },
        {
          "data": {
            "image/png": "[encoded data removed]",
            "text/plain": [
              "<Figure size 432x288 with 1 Axes>"
            ]
          },
          "metadata": {},
          "output_type": "display_data"
        },
        {
          "data": {
            "image/png": "[encoded data removed]",
            "text/plain": [
              "<Figure size 432x288 with 1 Axes>"
            ]
          },
          "metadata": {},
          "output_type": "display_data"
        },
        {
          "data": {
            "image/png": "[encoded data removed]",
            "text/plain": [
              "<Figure size 432x288 with 1 Axes>"
            ]
          },
          "metadata": {},
          "output_type": "display_data"
        },
        {
          "data": {
            "image/png": "[encoded data removed]",
            "text/plain": [
              "<Figure size 432x288 with 1 Axes>"
            ]
          },
          "metadata": {},
          "output_type": "display_data"
        },
        {
          "data": {
            "image/png": "[encoded data removed]",
            "text/plain": [
              "<Figure size 432x288 with 1 Axes>"
            ]
          },
          "metadata": {},
          "output_type": "display_data"
        }
      ],
      "source": [
        "#Scatterplot using matplotlib\n",
        "#Create function for ploting\n",
        "\n",
        "def plot_scatter(x,y):\n",
        "  plt.figure()\n",
        "  plt.xlabel(x)\n",
        "  plt.ylabel(y)\n",
        "  plt.scatter(train_data[x],train_data[y])\n",
        "  plt.show()\n",
        "\n",
        "\n",
        "#loop through the different columns\n",
        "for i in var_list:\n",
        "  for j in var_list:\n",
        "    if i!=j:\n",
        "      plot_scatter(i,j)\n"
      ]
    },
    {
      "cell_type": "markdown",
      "metadata": {
        "id": "QaJJnGh8C6EL"
      },
      "source": [
        "From above scatter plot, we can infer that\n",
        "\n",
        "1.)Increase in value of yearsExperience results in increase of values on salary axis, and we have seen this quantatively through correlation matrix\n",
        "\n",
        "2.)Increase in value on milesfromMetropolis results in decrease of value on salary axis, Thus negatively correlated\n",
        "\n",
        "3.)There is no change in values of yearExperience vs milesFromMetropolis graph, that is there is no correlation between these variables\n"
      ]
    },
    {
      "cell_type": "code",
      "execution_count": null,
      "metadata": {
        "colab": {
          "base_uri": "https://localhost:8080/",
          "height": 282
        },
        "id": "NadjKpU6EKOC",
        "outputId": "f0de448d-6dfd-4ea2-e87e-d22ce64bcf05"
      },
      "outputs": [
        {
          "data": {
            "text/plain": [
              "<matplotlib.axes._subplots.AxesSubplot at 0x7f88fa9f61f0>"
            ]
          },
          "execution_count": 27,
          "metadata": {},
          "output_type": "execute_result"
        },
        {
          "data": {
            "image/png": "[encoded data removed]",
            "text/plain": [
              "<Figure size 432x288 with 1 Axes>"
            ]
          },
          "metadata": {},
          "output_type": "display_data"
        }
      ],
      "source": [
        "seaborn.histplot(data=train_data)"
      ]
    },
    {
      "cell_type": "markdown",
      "metadata": {
        "id": "JWEVE04PFPjb"
      },
      "source": [
        "We can infer from here that\n",
        "1.)Salary is normally distributed\n",
        "\n",
        "2.)miles from metropolis are uniformly distributed\n",
        "\n",
        "3.)We cannot decode much about year of experience so we will plot separate histogram for that"
      ]
    },
    {
      "cell_type": "code",
      "execution_count": null,
      "metadata": {
        "colab": {
          "base_uri": "https://localhost:8080/",
          "height": 296
        },
        "id": "JFthpE49FsSn",
        "outputId": "3cfe2773-612e-4eb0-b746-cf654b188bae"
      },
      "outputs": [
        {
          "data": {
            "text/plain": [
              "<matplotlib.axes._subplots.AxesSubplot at 0x7f88fa38ca00>"
            ]
          },
          "execution_count": 28,
          "metadata": {},
          "output_type": "execute_result"
        },
        {
          "data": {
            "image/png": "[encoded data removed]",
            "text/plain": [
              "<Figure size 432x288 with 1 Axes>"
            ]
          },
          "metadata": {},
          "output_type": "display_data"
        }
      ],
      "source": [
        "seaborn.histplot(x=\"yearsExperience\",data=train_data,discrete=True)\n"
      ]
    },
    {
      "cell_type": "markdown",
      "metadata": {
        "id": "VA3PIzEKGa_o"
      },
      "source": [
        "We can infer from here that years of experience is also evenly distributed but having some peaks between 10 to 15 years of experience"
      ]
    },
    {
      "cell_type": "markdown",
      "metadata": {
        "id": "qZzOyPXARCy4"
      },
      "source": [
        "#Variance Inflation Factor\n",
        "It is used to check multicollinearity between two variables\n",
        "\n",
        "1.)The VIF(Variance Inflation Factor) quantifies the extent of correlation between one predictor and the other predictors in a model.\n",
        "\n",
        "2.)Higher value signifies that it is difficult to impossible to assess accurately the contribution of predictors to a model\n",
        "\n",
        "3.)Relation between VIF and R^2\n",
        "VIF=1/(1-R^2)\n",
        "which translates to Higher the value of R^2,Higher the value of VIF\n"
      ]
    },
    {
      "cell_type": "code",
      "execution_count": null,
      "metadata": {
        "id": "P22eNyKsGOeU"
      },
      "outputs": [],
      "source": [
        "#vif\n",
        "import statsmodels.api as sm\n"
      ]
    },
    {
      "cell_type": "code",
      "execution_count": null,
      "metadata": {
        "colab": {
          "base_uri": "https://localhost:8080/"
        },
        "id": "GP-k-MxrTi9K",
        "outputId": "9a5256c2-3ed4-4eb5-a8d8-497834f4d49e"
      },
      "outputs": [
        {
          "data": {
            "text/plain": [
              "['yearsExperience', 'milesFromMetropolis']"
            ]
          },
          "execution_count": 30,
          "metadata": {},
          "output_type": "execute_result"
        }
      ],
      "source": [
        "#creating a dataframe of just numerical values\n",
        "train_for_vif=train_data.drop(['jobType','degree','major','industry','salary'],axis=1)\n",
        "\n",
        "\n",
        "#target values\n",
        "target=train_data['salary']\n",
        "\n",
        "#numerical values column names\n",
        "names=['yearsExperience','milesFromMetropolis']\n",
        "train_for_vif.dropna(inplace=True)\n",
        "\n",
        "\n",
        "names\n"
      ]
    },
    {
      "cell_type": "code",
      "execution_count": null,
      "metadata": {
        "colab": {
          "base_uri": "https://localhost:8080/"
        },
        "id": "ajhCo3Z6Uske",
        "outputId": "678493a1-a5e6-4659-eee4-baa3c9430dbe"
      },
      "outputs": [
        {
          "name": "stdout",
          "output_type": "stream",
          "text": [
            "R square value of yearsExperience column is 0.55 keeping all other column as features\n",
            "Variance inflation factor of yearsExperience columns is 2.22 \n",
            "\n",
            "R square value of milesFromMetropolis column is 0.55 keeping all other column as features\n",
            "Variance inflation factor of milesFromMetropolis columns is 2.22 \n",
            "\n"
          ]
        }
      ],
      "source": [
        "#Calculate VIF for each feature\n",
        "for i in range(0,len(names)):\n",
        "  #taking one column as target variable\n",
        "  y=train_for_vif.loc[:,train_for_vif.columns==names[i]]\n",
        "  #taking all other remaining columns as feature Variable\n",
        "  x=train_for_vif.loc[:,train_for_vif.columns!= names[i]]\n",
        "\n",
        "  #fitting the OLS model on y and x\n",
        "  model=sm.OLS(y,x)\n",
        "  results=model.fit()\n",
        "\n",
        "  #getting the r^2 VALUE of results\n",
        "  rsq=results.rsquared\n",
        "\n",
        "  #calculating vif values\n",
        "  vif=round(1/(1-rsq),2)\n",
        "\n",
        "  print(\"R square value of {} column is {} keeping all other column as features\".format(names[i],round(rsq,2)))\n",
        "  print(\"Variance inflation factor of {} columns is {} \\n\".format(names[i],vif))\n",
        "\n"
      ]
    },
    {
      "cell_type": "markdown",
      "metadata": {
        "id": "UerbrfNaoYIC"
      },
      "source": []
    },
    {
      "cell_type": "markdown",
      "metadata": {
        "id": "O3qKXPcSZqpU"
      },
      "source": [
        "Conclusion:\n",
        "1.)Since the value of vif is 2.22 which is close to 2.5, we can say that  yearsExperience and MilesFromMetropolis both have collinearity with all the variables"
      ]
    },
    {
      "cell_type": "code",
      "execution_count": null,
      "metadata": {
        "id": "fJSHeNjjaCyU"
      },
      "outputs": [],
      "source": [
        "#Scaling\n",
        "#Helper function for scaling all the numerical data using MInMaxScaler\n",
        "\n",
        "def scale_data(df,col):\n",
        "  from sklearn.preprocessing import MinMaxScaler\n",
        "  scaler=MinMaxScaler()\n",
        "\n",
        "  df[col]=scaler.fit_transform(df[col])\n",
        "  return df\n",
        "\n"
      ]
    },
    {
      "cell_type": "code",
      "execution_count": null,
      "metadata": {
        "id": "AYnE1WqwpcFy"
      },
      "outputs": [],
      "source": [
        "#Making a list of the column names to be scaled\n",
        "col_train=['yearsExperience','milesFromMetropolis']\n",
        "train_data=scale_data(train_data,col_train)"
      ]
    },
    {
      "cell_type": "markdown",
      "metadata": {
        "id": "K4oYN1EfNqs3"
      },
      "source": [
        "#Modelling \n",
        "#One hot Encoding\n",
        "A one hot Encoding can be applied to the categorical representation.This is where the categorical variables are removed, and a new variable is added for each unique categorical Value"
      ]
    },
    {
      "cell_type": "code",
      "execution_count": null,
      "metadata": {
        "id": "VKdkjh0n_q2A"
      },
      "outputs": [],
      "source": [
        "\n"
      ]
    },
    {
      "cell_type": "code",
      "execution_count": null,
      "metadata": {
        "colab": {
          "base_uri": "https://localhost:8080/"
        },
        "id": "sLGftgphBPEG",
        "outputId": "a520e32b-8df6-4395-b53f-71545b4d5431"
      },
      "outputs": [
        {
          "name": "stdout",
          "output_type": "stream",
          "text": [
            "<class 'pandas.core.frame.DataFrame'>\n",
            "Int64Index: 997548 entries, 0 to 999999\n",
            "Data columns (total 7 columns):\n",
            " #   Column               Non-Null Count   Dtype  \n",
            "---  ------               --------------   -----  \n",
            " 0   jobType              997548 non-null  object \n",
            " 1   degree               997548 non-null  object \n",
            " 2   major                997548 non-null  object \n",
            " 3   industry             997548 non-null  object \n",
            " 4   yearsExperience      997548 non-null  float64\n",
            " 5   milesFromMetropolis  997548 non-null  float64\n",
            " 6   salary               997548 non-null  int64  \n",
            "dtypes: float64(2), int64(1), object(4)\n",
            "memory usage: 93.1+ MB\n"
          ]
        }
      ],
      "source": [
        "train_data.info()"
      ]
    },
    {
      "cell_type": "code",
      "execution_count": null,
      "metadata": {
        "colab": {
          "base_uri": "https://localhost:8080/"
        },
        "id": "6vCraxeKRWGG",
        "outputId": "df991151-e0ce-4a50-a5ac-9e03ca0f4ac8"
      },
      "outputs": [
        {
          "data": {
            "text/plain": [
              "SENIOR            125886\n",
              "VICE_PRESIDENT    125234\n",
              "MANAGER           125120\n",
              "CTO               125045\n",
              "CEO               124778\n",
              "JUNIOR            124554\n",
              "CFO               124369\n",
              "JANITOR           122562\n",
              "Name: jobType, dtype: int64"
            ]
          },
          "execution_count": 35,
          "metadata": {},
          "output_type": "execute_result"
        }
      ],
      "source": [
        "#checking unique value of each column and their value count\n",
        "train_data['jobType'].value_counts()"
      ]
    },
    {
      "cell_type": "markdown",
      "metadata": {
        "id": "6X3yMMstSBj4"
      },
      "source": [
        "Conclusion-We can see that there are 8 sub jobtype in Company"
      ]
    },
    {
      "cell_type": "code",
      "execution_count": null,
      "metadata": {
        "colab": {
          "base_uri": "https://localhost:8080/"
        },
        "id": "AHBMRYTnSZzg",
        "outputId": "4cdb9463-b104-49a5-cbbd-93c44600fc43"
      },
      "outputs": [
        {
          "data": {
            "text/plain": [
              "HIGH_SCHOOL    235769\n",
              "NONE           235612\n",
              "BACHELORS      175495\n",
              "DOCTORAL       175362\n",
              "MASTERS        175310\n",
              "Name: degree, dtype: int64"
            ]
          },
          "execution_count": 36,
          "metadata": {},
          "output_type": "execute_result"
        }
      ],
      "source": [
        "#Similarly check for other categorical value\n",
        "train_data['degree'].value_counts()"
      ]
    },
    {
      "cell_type": "markdown",
      "metadata": {
        "id": "FUdt2NRvSxsL"
      },
      "source": [
        "Conclusion-We can see that Employees in the company have this much level of Education."
      ]
    },
    {
      "cell_type": "code",
      "execution_count": null,
      "metadata": {
        "colab": {
          "base_uri": "https://localhost:8080/"
        },
        "id": "i3586WhBTCCG",
        "outputId": "bbcb4f4c-f458-4604-e2c6-1d5d53999160"
      },
      "outputs": [
        {
          "data": {
            "text/plain": [
              "NONE           529906\n",
              "CHEMISTRY       58875\n",
              "LITERATURE      58684\n",
              "ENGINEERING     58594\n",
              "BUSINESS        58518\n",
              "PHYSICS         58410\n",
              "COMPSCI         58382\n",
              "BIOLOGY         58379\n",
              "MATH            57800\n",
              "Name: major, dtype: int64"
            ]
          },
          "execution_count": 37,
          "metadata": {},
          "output_type": "execute_result"
        }
      ],
      "source": [
        "train_data['major'].value_counts()"
      ]
    },
    {
      "cell_type": "markdown",
      "metadata": {
        "id": "DoZTM6_RTjn_"
      },
      "source": [
        "Conclusion-Employees have done major in these fields of Education"
      ]
    },
    {
      "cell_type": "code",
      "execution_count": null,
      "metadata": {
        "colab": {
          "base_uri": "https://localhost:8080/"
        },
        "id": "nDw3jD7mTZQp",
        "outputId": "b0a0cb02-9aa9-4897-e865-a71bdb63a645"
      },
      "outputs": [
        {
          "data": {
            "text/plain": [
              "WEB          143205\n",
              "FINANCE      142866\n",
              "OIL          142770\n",
              "AUTO         142766\n",
              "HEALTH       142736\n",
              "SERVICE      142056\n",
              "EDUCATION    141149\n",
              "Name: industry, dtype: int64"
            ]
          },
          "execution_count": 38,
          "metadata": {},
          "output_type": "execute_result"
        }
      ],
      "source": [
        "train_data['industry'].value_counts()"
      ]
    },
    {
      "cell_type": "markdown",
      "metadata": {
        "id": "pqQqKpMATMpd"
      },
      "source": [
        "Conclusion-There are 143205 employees working in web industry, and 142866 employees working in Finance industry, 142770 employees working in Oil Industry and so on"
      ]
    },
    {
      "cell_type": "code",
      "execution_count": null,
      "metadata": {
        "colab": {
          "base_uri": "https://localhost:8080/"
        },
        "id": "Q2bIeqFMQJ-I",
        "outputId": "33e9ce89-16c5-4979-fdc6-ffc5b01b377c"
      },
      "outputs": [
        {
          "name": "stdout",
          "output_type": "stream",
          "text": [
            "        yearsExperience  milesFromMetropolis  jobType_CEO  jobType_CFO  \\\n",
            "0              0.416667             0.838384            0            1   \n",
            "1              0.125000             0.737374            1            0   \n",
            "2              0.416667             0.383838            0            0   \n",
            "3              0.333333             0.171717            0            0   \n",
            "4              0.333333             0.161616            0            0   \n",
            "...                 ...                  ...          ...          ...   \n",
            "999995         0.791667             0.949495            0            0   \n",
            "999996         0.500000             0.353535            0            0   \n",
            "999997         0.666667             0.818182            0            0   \n",
            "999998         0.250000             0.050505            0            1   \n",
            "999999         0.833333             0.111111            0            0   \n",
            "\n",
            "        jobType_CTO  jobType_JANITOR  jobType_JUNIOR  jobType_MANAGER  \\\n",
            "0                 0                0               0                0   \n",
            "1                 0                0               0                0   \n",
            "2                 0                0               0                0   \n",
            "3                 0                0               0                1   \n",
            "4                 0                0               0                0   \n",
            "...             ...              ...             ...              ...   \n",
            "999995            0                0               0                0   \n",
            "999996            1                0               0                0   \n",
            "999997            0                0               1                0   \n",
            "999998            0                0               0                0   \n",
            "999999            0                0               1                0   \n",
            "\n",
            "        jobType_SENIOR  jobType_VICE_PRESIDENT  ...  major_MATH  major_NONE  \\\n",
            "0                    0                       0  ...           1           0   \n",
            "1                    0                       0  ...           0           1   \n",
            "2                    0                       1  ...           0           0   \n",
            "3                    0                       0  ...           0           0   \n",
            "4                    0                       1  ...           0           0   \n",
            "...                ...                     ...  ...         ...         ...   \n",
            "999995               0                       1  ...           0           0   \n",
            "999996               0                       0  ...           0           1   \n",
            "999997               0                       0  ...           0           1   \n",
            "999998               0                       0  ...           0           1   \n",
            "999999               0                       0  ...           0           1   \n",
            "\n",
            "        major_PHYSICS  industry_AUTO  industry_EDUCATION  industry_FINANCE  \\\n",
            "0                   0              0                   0                 0   \n",
            "1                   0              0                   0                 0   \n",
            "2                   1              0                   0                 0   \n",
            "3                   0              1                   0                 0   \n",
            "4                   1              0                   0                 1   \n",
            "...               ...            ...                 ...               ...   \n",
            "999995              0              0                   0                 0   \n",
            "999996              0              0                   0                 1   \n",
            "999997              0              0                   1                 0   \n",
            "999998              0              0                   0                 0   \n",
            "999999              0              0                   1                 0   \n",
            "\n",
            "        industry_HEALTH  industry_OIL  industry_SERVICE  industry_WEB  \n",
            "0                     1             0                 0             0  \n",
            "1                     0             0                 0             1  \n",
            "2                     1             0                 0             0  \n",
            "3                     0             0                 0             0  \n",
            "4                     0             0                 0             0  \n",
            "...                 ...           ...               ...           ...  \n",
            "999995                1             0                 0             0  \n",
            "999996                0             0                 0             0  \n",
            "999997                0             0                 0             0  \n",
            "999998                1             0                 0             0  \n",
            "999999                0             0                 0             0  \n",
            "\n",
            "[997548 rows x 31 columns]\n"
          ]
        }
      ],
      "source": [
        "#Split the labels and the targets\n",
        "train_X=train_data.drop(['salary'],axis=1)\n",
        "train_Y=train_data['salary']\n",
        "\n",
        "#One hot Encoding\n",
        "train_X=pd.get_dummies(train_X,columns=['jobType','degree','major','industry'])\n",
        "print(train_X)"
      ]
    },
    {
      "cell_type": "markdown",
      "metadata": {
        "id": "P7EKi4tAZN5Z"
      },
      "source": [
        "The Salary column was not scaled because that's our target Variable, we want it raw, Second there was a scope of scaling it but then again we have to inverse it!"
      ]
    },
    {
      "cell_type": "markdown",
      "metadata": {
        "id": "ofA10yPhZG5c"
      },
      "source": []
    },
    {
      "cell_type": "code",
      "execution_count": null,
      "metadata": {
        "id": "LzFpWy8IY-05"
      },
      "outputs": [],
      "source": []
    },
    {
      "cell_type": "code",
      "execution_count": null,
      "metadata": {
        "colab": {
          "base_uri": "https://localhost:8080/"
        },
        "id": "32BgvJXGRCJn",
        "outputId": "4fa5a003-3122-45c2-cf12-7d3ffd227f68"
      },
      "outputs": [
        {
          "name": "stdout",
          "output_type": "stream",
          "text": [
            "<class 'pandas.core.frame.DataFrame'>\n",
            "Int64Index: 997548 entries, 0 to 999999\n",
            "Data columns (total 31 columns):\n",
            " #   Column                  Non-Null Count   Dtype  \n",
            "---  ------                  --------------   -----  \n",
            " 0   yearsExperience         997548 non-null  float64\n",
            " 1   milesFromMetropolis     997548 non-null  float64\n",
            " 2   jobType_CEO             997548 non-null  uint8  \n",
            " 3   jobType_CFO             997548 non-null  uint8  \n",
            " 4   jobType_CTO             997548 non-null  uint8  \n",
            " 5   jobType_JANITOR         997548 non-null  uint8  \n",
            " 6   jobType_JUNIOR          997548 non-null  uint8  \n",
            " 7   jobType_MANAGER         997548 non-null  uint8  \n",
            " 8   jobType_SENIOR          997548 non-null  uint8  \n",
            " 9   jobType_VICE_PRESIDENT  997548 non-null  uint8  \n",
            " 10  degree_BACHELORS        997548 non-null  uint8  \n",
            " 11  degree_DOCTORAL         997548 non-null  uint8  \n",
            " 12  degree_HIGH_SCHOOL      997548 non-null  uint8  \n",
            " 13  degree_MASTERS          997548 non-null  uint8  \n",
            " 14  degree_NONE             997548 non-null  uint8  \n",
            " 15  major_BIOLOGY           997548 non-null  uint8  \n",
            " 16  major_BUSINESS          997548 non-null  uint8  \n",
            " 17  major_CHEMISTRY         997548 non-null  uint8  \n",
            " 18  major_COMPSCI           997548 non-null  uint8  \n",
            " 19  major_ENGINEERING       997548 non-null  uint8  \n",
            " 20  major_LITERATURE        997548 non-null  uint8  \n",
            " 21  major_MATH              997548 non-null  uint8  \n",
            " 22  major_NONE              997548 non-null  uint8  \n",
            " 23  major_PHYSICS           997548 non-null  uint8  \n",
            " 24  industry_AUTO           997548 non-null  uint8  \n",
            " 25  industry_EDUCATION      997548 non-null  uint8  \n",
            " 26  industry_FINANCE        997548 non-null  uint8  \n",
            " 27  industry_HEALTH         997548 non-null  uint8  \n",
            " 28  industry_OIL            997548 non-null  uint8  \n",
            " 29  industry_SERVICE        997548 non-null  uint8  \n",
            " 30  industry_WEB            997548 non-null  uint8  \n",
            "dtypes: float64(2), uint8(29)\n",
            "memory usage: 82.7 MB\n"
          ]
        }
      ],
      "source": [
        "#Checking information regarding columns after Scaling and One hot Encoding\n",
        "train_X.info()"
      ]
    },
    {
      "cell_type": "code",
      "execution_count": null,
      "metadata": {
        "colab": {
          "base_uri": "https://localhost:8080/"
        },
        "id": "XgYX-NhKRLKh",
        "outputId": "b88bf412-65f6-4365-d4d3-56c6f32be472"
      },
      "outputs": [
        {
          "data": {
            "text/plain": [
              "0    130\n",
              "1    101\n",
              "2    137\n",
              "3    142\n",
              "4    163\n",
              "Name: salary, dtype: int64"
            ]
          },
          "execution_count": 41,
          "metadata": {},
          "output_type": "execute_result"
        }
      ],
      "source": [
        "#Checking our salary column\n",
        "train_Y.head()"
      ]
    },
    {
      "cell_type": "code",
      "execution_count": null,
      "metadata": {
        "id": "DB0UKDVvY5Cb"
      },
      "outputs": [],
      "source": [
        "#importing sklearn library for spliting train_dataset into train and test dataset\n",
        "\n",
        "from sklearn.model_selection import train_test_split\n",
        "X_train,X_test,Y_train,Y_test=train_test_split(train_X,train_Y,test_size=0.2)"
      ]
    },
    {
      "cell_type": "code",
      "execution_count": null,
      "metadata": {
        "id": "0wpXjZ5EabkV"
      },
      "outputs": [],
      "source": [
        "import math\n",
        "import sklearn.metrics as metrics\n",
        "from sklearn.metrics import median_absolute_error\n",
        "\n",
        "#Function for calculating RMSE\n",
        "def rmse(x,y):\n",
        "\n",
        "  return math.sqrt(((x-y)**2).mean())\n",
        "\n",
        "  #Function for calculating all the relevant metrices\n",
        "def print_scores(m):\n",
        "    res=[rmse(m.predict(X_train),Y_train),rmse(m.predict(X_test), Y_test),\n",
        "         m.score(X_train,Y_train),m.score(X_test,Y_test),\n",
        "         median_absolute_error(m.predict(X_train),Y_train), median_absolute_error(m.predict(X_test), Y_test),\n",
        "         metrics.mean_absolute_error(m.predict(X_train),Y_train),metrics.mean_absolute_error(m.predict(X_test),Y_test),\n",
        "       \n",
        "       ]\n",
        "\n",
        "    print(\"RMSE-Train: \" + str(res[0]) + \"\\nRMSE-Test: \" + str(res[1]) + \"\\nScore-Train: \" + str(res[2]) + \"\\nScore-Test: \" + str(res[3]) +\n",
        "         \"\\nMedAE-Train: \" + str(res[4]) + \"\\nMedAE-Test: \" + str(res[5]) + \"\\nMeanAE-Train: \" + str(res[6]) + \"\\nMeanAE-Test: \" + str(res[7]),'\\n')\n"
      ]
    },
    {
      "cell_type": "markdown",
      "metadata": {
        "id": "VlQwiMtgZUtD"
      },
      "source": []
    },
    {
      "cell_type": "code",
      "execution_count": null,
      "metadata": {
        "id": "_NHAdLviZVba"
      },
      "outputs": [],
      "source": [
        "# Visualize importance of all the features in the dataset for the prediction\n",
        "\n",
        "def visualize_importance(feature_importances, feat_train_df):\n",
        "    \n",
        "    # creating two empty dataframe for feature name and feature importance\n",
        "    feature_importance_df = pd.DataFrame()\n",
        "\n",
        "    _df = pd.DataFrame()\n",
        "    _df['feature_importance'] = feature_importances\n",
        "    _df['column'] = feat_train_df.columns\n",
        "    feature_importance_df = pd.concat([feature_importance_df,_df],axis=0,ignore_index=True)\n",
        "    \n",
        "\n",
        "    # grouping all data and sorting in descending order\n",
        "    order = feature_importance_df.groupby('column')\\\n",
        "    .sum()[['feature_importance']]\\\n",
        "    .sort_values('feature_importance',ascending=False).index[:50]\n",
        "    \n",
        "\n",
        "\n",
        "    \n",
        "    # ploting feature importance data using boxenplot\n",
        "    fig, ax = plt.subplots(figsize=(8, max(6, len(order) * .25)))\n",
        "    seaborn.boxenplot(data=feature_importance_df,x='feature_importance',\n",
        "                      y='column',order=order,ax=ax,palette='viridis',orient='h')\n",
        "    ax.set_title('Importance')\n",
        "    ax.grid()\n",
        "    fig.tight_layout()\n",
        "    return fig,ax\n",
        "\n",
        "    \n",
        "    \n",
        "\n",
        "\n",
        "\n",
        "\n"
      ]
    },
    {
      "cell_type": "markdown",
      "metadata": {
        "id": "4pM9j_qmdHrh"
      },
      "source": [
        "The employee salaries dataset has 1000000 samples.\n",
        "\n",
        "We will use only 50000 samples for training\n",
        "\n",
        "Using complete dataset will take longer time to train the model, therefore we will use only 50000"
      ]
    },
    {
      "cell_type": "code",
      "execution_count": null,
      "metadata": {
        "colab": {
          "base_uri": "https://localhost:8080/",
          "height": 758
        },
        "id": "LNuDisrEc-Js",
        "outputId": "90f6ddc0-2b49-4409-af9f-f8a80d924e47"
      },
      "outputs": [
        {
          "name": "stdout",
          "output_type": "stream",
          "text": [
            "RMSE-Train: 19.620269952270487\n",
            "RMSE-Test: 19.653586743416827\n",
            "Score-Train: 0.7403154918148557\n",
            "Score-Test: 0.7401769956312185\n",
            "MedAE-Train: 13.7540283203125\n",
            "MedAE-Test: 13.79736328125\n",
            "MeanAE-Train: 15.864103206950496\n",
            "MeanAE-Test: 15.89087019667913 \n",
            "\n",
            "CPU times: user 2.49 s, sys: 733 ms, total: 3.22 s\n",
            "Wall time: 2.1 s\n"
          ]
        },
        {
          "data": {
            "image/png": "[encoded data removed]",
            "text/plain": [
              "<Figure size 576x558 with 1 Axes>"
            ]
          },
          "metadata": {},
          "output_type": "display_data"
        }
      ],
      "source": [
        "%%time\n",
        "# Fit a Linear Regression model to the train dataset\n",
        "\n",
        "# Import LinearRegressor\n",
        "from sklearn.linear_model import LinearRegression\n",
        "\n",
        "# Instantiate the model\n",
        "lm = LinearRegression()\n",
        "\n",
        "# Fit the model to the data\n",
        "lm.fit(X_train,Y_train)\n",
        "\n",
        "\n",
        "\n",
        "# print score of the model\n",
        "print_scores(lm)\n",
        "\n",
        "\n",
        "#Visualize the importance of feature\n",
        "fig, ax=visualize_importance(lm.coef_,train_X)\n"
      ]
    },
    {
      "cell_type": "markdown",
      "metadata": {
        "id": "_QE5g-bfhGXo"
      },
      "source": [
        "We can see that thr r2 score is 74%, which means 74% variation in Y is explained by Independent Variable in train and test Datset"
      ]
    },
    {
      "cell_type": "markdown",
      "metadata": {
        "id": "xeGziBH2iPcT"
      },
      "source": [
        "Random Forest Regressor\n",
        "\n",
        "Random forest is a flexible, easy to use machine learning algorithm that produces, even without hyper-parameter tuning, a great result most of the time. It is also one of the most used algorithms, because of its simplicity and diversity.\n",
        "\n",
        "\n"
      ]
    },
    {
      "cell_type": "code",
      "execution_count": null,
      "metadata": {
        "colab": {
          "background_save": true
        },
        "id": "cLZytzJ0efKu",
        "outputId": "63402e7e-fbdf-4b5f-c556-a4d0d51c236e"
      },
      "outputs": [
        {
          "name": "stdout",
          "output_type": "stream",
          "text": [
            "RMSE-Train: 20.04151143106812\n",
            "RMSE-Test: 20.63212720336873\n",
            "Score-Train: 0.7290450892149694\n",
            "Score-Test: 0.7136600308142982\n",
            "MedAE-Train: 13.129999999999995\n",
            "MedAE-Test: 13.988\n",
            "MeanAE-Train: 15.832251254183387\n",
            "MeanAE-Test: 16.492169393088464 \n",
            "\n",
            "CPU times: user 2min 35s, sys: 360 ms, total: 2min 35s\n",
            "Wall time: 2min 36s\n"
          ]
        },
        {
          "data": {
            "image/png": "[encoded data removed]",
            "text/plain": [
              "<Figure size 576x558 with 1 Axes>"
            ]
          },
          "metadata": {},
          "output_type": "display_data"
        }
      ],
      "source": [
        "%%time\n",
        "# Fit a Random Forest Regressor model to the train dataset\n",
        "\n",
        "# Import RandomForrestRegressor\n",
        "from sklearn.ensemble import RandomForestRegressor\n",
        "\n",
        "# Instantiate the model\n",
        "rf=  RandomForestRegressor()\n",
        "\n",
        "\n",
        "# Fit the model to the data\n",
        "rf.fit(X_train.iloc[1:50000],Y_train.iloc[1:50000])\n",
        "\n",
        "\n",
        "\n",
        "\n",
        "# print score of the model\n",
        "print_scores(rf)\n",
        "\n",
        "\n",
        "# visualizing the inportance of features.\n",
        "fig, ax=visualize_importance(rf.feature_importances_,train_X.iloc[1:50000])\n",
        "\n",
        "\n",
        "\n"
      ]
    },
    {
      "cell_type": "markdown",
      "metadata": {
        "id": "YstNN375kMRx"
      },
      "source": [
        "The r2 score is near about 72% in train and test_dataset\n",
        "that means 30% of variation in salary is explained by Independent Variable"
      ]
    },
    {
      "cell_type": "markdown",
      "metadata": {
        "id": "w0afq7uNtD4W"
      },
      "source": [
        "Gradient Boosting Algorithm\n",
        "\n",
        "\n",
        "Gradient Boosting Algorithm is generally used when we want to decrease the Bias error. it builds an additive model in a forward stage-wise fashion; it allows for the optimization of arbitrary differentiable loss functions. In each stage a regression tree is fit on the negative gradient of the given loss function."
      ]
    },
    {
      "cell_type": "code",
      "execution_count": null,
      "metadata": {
        "id": "db_pZKcUkIXo"
      },
      "outputs": [],
      "source": [
        "%%time\n",
        "# Fit a Gradient Boosting Regressor model to the train dataset\n",
        "\n",
        "# Import GradientBoostingRegressor\n",
        "from sklearn.ensemble import GradientBoostingRegressor\n",
        "\n",
        "# Instantiate the model\n",
        "GBR = GradientBoostingRegressor()\n",
        "\n",
        "\n",
        "#fitting the model\n",
        "GBR.fit(X_train.iloc[1:50000],Y_train.iloc[1:50000])\n",
        "\n",
        "\n",
        "\n",
        "# print score of the model\n",
        "\n",
        "print_scores(GBR)\n",
        "\n",
        "\n",
        "# visualizing the importance of features.\n",
        "fig, ax = visualize_importance(GBR.feature_importances_,train_X.iloc[1:50000])"
      ]
    },
    {
      "cell_type": "markdown",
      "metadata": {
        "id": "Laz_6b3cu_d3"
      },
      "source": [
        "The R2score using Gradient Boosting Algorithm is 74% for both train and test dataset. and in boxen plot we see that most important features are \n",
        "'yearsExperience'and 'jobType_JANITOR'."
      ]
    },
    {
      "cell_type": "markdown",
      "metadata": {
        "id": "MeTLJ5bov0Fj"
      },
      "source": [
        "Decision Tree\n",
        "\n",
        "Decision tree builds regression or classification models in the form of a tree structure. It breaks down a dataset into smaller and smaller subsets while at the same time an associated decision tree is incrementally developed. The final result is a tree with decision nodes and leaf nodes"
      ]
    },
    {
      "cell_type": "code",
      "execution_count": null,
      "metadata": {
        "id": "6rMsQweQvVhm"
      },
      "outputs": [],
      "source": [
        "%%time\n",
        "# Fit a Decision Tree Regressor model to the train dataset\n",
        "\n",
        "# Import DecisionTreeRegressor\n",
        "from sklearn.tree import DecisionTreeRegressor\n",
        "\n",
        "# Instantiate the model\n",
        "DTR = DecisionTreeRegressor()\n",
        "\n",
        "#fitting the model\n",
        "DTR.fit(X_train.iloc[1:50000],Y_train.iloc[1:50000])\n",
        "\n",
        "\n",
        "\n",
        "# print score of the model\n",
        "print_scores(DTR)\n",
        "\n",
        "#visulizing feature importance\n",
        "\n",
        "fig, ax = visualize_importance(DTR.feature_importances_,train_X.iloc[1:50000])\n"
      ]
    },
    {
      "cell_type": "markdown",
      "metadata": {
        "id": "ua-gw7jDxYAR"
      },
      "source": []
    },
    {
      "cell_type": "markdown",
      "metadata": {
        "id": "UuQFYoTWwsiu"
      },
      "source": [
        "The R2score using Decision Tree Algorithm is 51% for train and 47% for test dataset. and in boxen plot we see that most important features are 'milesfromMetropolis'and 'yearsExperience'.\n",
        "\n"
      ]
    },
    {
      "cell_type": "markdown",
      "metadata": {
        "id": "k3gO9PkKxZwp"
      },
      "source": [
        "#XGBOOST\n",
        "XGBoost is an ensemble learning method. Sometimes, it may not be sufficient to rely upon the results of just one machine learning model. Ensemble learning offers a systematic solution to combine the predictive power of multiple learners. The resultant is a single model which gives the aggregated output from several models."
      ]
    },
    {
      "cell_type": "code",
      "execution_count": null,
      "metadata": {
        "id": "W2slctLNxAa7"
      },
      "outputs": [],
      "source": [
        "%%time\n",
        "# Fit a XGB Regressor model to the train dataset\n",
        "\n",
        "# Import XGBRegressor\n",
        "from xgboost import XGBRegressor\n",
        "\n",
        "# Instantiate the model\n",
        "xgbr = XGBRegressor()\n",
        "\n",
        "\n",
        "# Fit the model to the data\n",
        "xgbr.fit(X_train.iloc[1:50000],Y_train.iloc[1:50000])\n",
        "\n",
        "\n",
        "# print score of the model\n",
        "print_scores(xgbr)\n",
        "\n",
        "#visualizing the importance of features\n",
        "fig, ax = visualize_importance(xgbr.feature_importances_,train_X.iloc[1:50000])\n",
        "\n"
      ]
    },
    {
      "cell_type": "markdown",
      "metadata": {
        "id": "p0HFbN12yO9L"
      },
      "source": [
        "The R2score using XGBoost Algorithm is 74% for train and 74% for test dataset. and in boxen plot we see that most important features are 'jobType Janitor'and 'major_none'."
      ]
    },
    {
      "cell_type": "markdown",
      "metadata": {
        "id": "8biB3Ej-zSE5"
      },
      "source": [
        "#Comparing all the model based on metric"
      ]
    },
    {
      "cell_type": "code",
      "execution_count": null,
      "metadata": {
        "id": "PrMlNJyNyjRg"
      },
      "outputs": [],
      "source": [
        "# the libraries we need\n",
        "import sklearn.metrics as metrics\n",
        "from sklearn.model_selection import train_test_split\n",
        "def compare_models(models,names,X_train,y_train,X_test,y_test):\n",
        "\n",
        "\n",
        "    # now, create a list with the objects \n",
        "    data = {'Metric':['rmse','MedAE','MAE','R-squared']}\n",
        "    df_train = pd.DataFrame(data)\n",
        "    df_test = pd.DataFrame(data)\n",
        "\n",
        "    def rmse(x,y):\n",
        "      return math.sqrt(((x-y)**2).mean())\n",
        "\n",
        "\n",
        "    for (model,name) in zip(models,names):\n",
        "      y_pred= model.predict(X_test) # then predict on the test set\n",
        "      res = [rmse(model.predict(X_train), y_train),rmse(model.predict(X_test), y_test),\n",
        "                metrics.median_absolute_error(model.predict(X_train), y_train),metrics.median_absolute_error(model.predict(X_test), y_test),\n",
        "                metrics.mean_absolute_error(model.predict(X_train), y_train),metrics.mean_absolute_error(model.predict(X_test), y_test),\n",
        "                metrics.r2_score(model.predict(X_train), y_train),metrics.r2_score(model.predict(X_test), y_test)]\n",
        "      df_train[name] = [res[0], res[2], res[4], res[6]]\n",
        "      df_test[name] = [res[1], res[3], res[5], res[7]]\n",
        "    return df_train,df_test"
      ]
    },
    {
      "cell_type": "code",
      "execution_count": null,
      "metadata": {
        "id": "V6TX57R4zgdu"
      },
      "outputs": [],
      "source": [
        "# list of models object\n",
        "# list of models name\n",
        "models= [lm,rf,GBR,DTR, xgbr]\n",
        "names = ['Lr', 'Forest', 'GBR','DecisionTree', 'Xboost']\n",
        "comp_model_train,comp_model_test = compare_models(models,names,X_train,Y_train,X_test,Y_test)"
      ]
    },
    {
      "cell_type": "code",
      "execution_count": null,
      "metadata": {
        "id": "_Y0ouDmgAlMx"
      },
      "outputs": [],
      "source": [
        "#Printing rmse comparison of model on train and test\n",
        "\n",
        "print(comp_model_train[:1])\n",
        "print('\\n')\n",
        "print(comp_model_test[:1])"
      ]
    },
    {
      "cell_type": "code",
      "execution_count": null,
      "metadata": {
        "id": "Z3hgnnSeO4Ka"
      },
      "outputs": [],
      "source": [
        "#Printing comparison of model on train and test\n",
        "print(\"Results on test data\")\n",
        "comp_model_test"
      ]
    },
    {
      "cell_type": "markdown",
      "metadata": {
        "id": "A50VWfsJmxUV"
      },
      "source": [
        "#Hyperparameter Tuning"
      ]
    },
    {
      "cell_type": "code",
      "execution_count": null,
      "metadata": {
        "id": "WLoRLmLCjcWv"
      },
      "outputs": [],
      "source": [
        "# Helper function to perform hyper parameter tunning with RandomizedSearchCV\n",
        "def random_Search(model,X_train, Y_train,param_grid):\n",
        "  from sklearn.model_selection import RandomizedSearchCV\n",
        "\n",
        "  # Random search of parameters, using 3 fold cross validation, \n",
        "  # search across 100 different combinations, and use all available cores\n",
        "  random = RandomizedSearchCV(estimator=model,param_distributions=param_grid,n_iter=20,cv=3,verbose=2,random_state=42,n_jobs=-1\n",
        "                              )\n",
        "  random.fit(X_train.iloc[1:50000],Y_train.iloc[1:50000])\n",
        "  print(random.best_params_)\n",
        "  \n",
        "  "
      ]
    },
    {
      "cell_type": "code",
      "execution_count": null,
      "metadata": {
        "id": "PiwLEfVvpUj1"
      },
      "outputs": [],
      "source": [
        "# create parameters dict for tunning\n",
        "rf_para_grid = {'n_estimators': [1, 2, 4, 8, 16, 32, 64, 100, 200],\n",
        "               'max_features': ['auto', 'sqrt'],\n",
        "               'max_depth': np.linspace(1, 32, 32, endpoint=True),\n",
        "               'min_samples_leaf': np.linspace(0.1, 0.5, 5, endpoint=True),\n",
        "               'bootstrap': [True, False]}\n",
        "\n",
        "# passing data for hyper parameter tunning with Randomized search cv\n",
        "\n",
        "random_Search(RandomForestRegressor(),X_train,Y_train,param_grid=rf_para_grid)"
      ]
    },
    {
      "cell_type": "code",
      "execution_count": null,
      "metadata": {
        "id": "aEFiRP2grB63"
      },
      "outputs": [],
      "source": [
        "#import GradientBoostingRegressor\n",
        "# create GradientBoostRegressor parameters dict for tunning\n",
        "GBR_para_grid = {\n",
        "'n_estimators':  [1, 2, 4, 8, 16, 32, 64, 100, 200], \n",
        " 'learning_rate' : [1, 0.5, 0.25, 0.1, 0.05, 0.01],\n",
        " 'max_depth': np.linspace(1, 32, 32, endpoint=True), \n",
        " 'min_samples_split': np.linspace(0.1, 1.0, 10, endpoint=True)\n",
        "}\n",
        "\n",
        "# passing data for hyper parameter tunning with Random\n",
        "\n",
        "random_Search(GradientBoostingRegressor(),X_train,Y_train,param_grid=GBR_para_grid)\n",
        "\n"
      ]
    },
    {
      "cell_type": "code",
      "execution_count": null,
      "metadata": {
        "colab": {
          "background_save": true
        },
        "id": "oZCgnq-gspcn",
        "outputId": "7f617211-c188-4d85-faa6-3cdfe04c60c0"
      },
      "outputs": [
        {
          "name": "stdout",
          "output_type": "stream",
          "text": [
            "RMSE-Train: 30.440241813977806\n",
            "RMSE-Test: 30.438352840952962\n",
            "Score-Train: 0.37492478166338883\n",
            "Score-Test: 0.37678735783277906\n",
            "MedAE-Train: 20.93607305936061\n",
            "MedAE-Test: 20.93607305936061\n",
            "MeanAE-Train: 24.37971896624735\n",
            "MeanAE-Test: 24.377111023733324 \n",
            "\n",
            "CPU times: user 10.9 s, sys: 78.8 ms, total: 10.9 s\n",
            "Wall time: 10.9 s\n"
          ]
        },
        {
          "data": {
            "image/png": "[encoded data removed]",
            "text/plain": [
              "<Figure size 576x558 with 1 Axes>"
            ]
          },
          "metadata": {},
          "output_type": "display_data"
        }
      ],
      "source": [
        "%%time\n",
        "# Fit a Random Forest Regressor model to the train dataset\n",
        "\n",
        "# Instantiate the model\n",
        "rf= RandomForestRegressor(**{'n_estimators':64,'min_samples_leaf': 0.1, 'max_features': 'auto', 'max_depth': 27.0, 'bootstrap': False})\n",
        "\n",
        "\n",
        "\n",
        "# Fit the model to the data\n",
        "rf.fit(X_train.iloc[1:10000],Y_train.iloc[1:10000])\n",
        "\n",
        "\n",
        "# print score of the model\n",
        "print_scores(rf)\n",
        "\n",
        "\n",
        "# visualizing the inportance of features.\n",
        "fig, ax = visualize_importance(rf.feature_importances_,train_X.iloc[1:1000])\n"
      ]
    },
    {
      "cell_type": "code",
      "execution_count": null,
      "metadata": {
        "id": "sIR6PiBsPHL1"
      },
      "outputs": [],
      "source": [
        "%%time\n",
        "# Import GradientBoostingRegressor\n",
        "from sklearn.ensemble import GradientBoostingRegressor\n",
        "\n",
        "# Fit a Gradient Boosting Regressor model to the train dataset\n",
        "\n",
        "# Instantiate the model\n",
        "GBR = GradientBoostingRegressor(**{'n_estimators': 100, 'min_samples_split': 0.4, 'max_depth': 30.0, 'learning_rate': 0.1})\n",
        "\n",
        "GBR.fit(X_train.iloc[1:50000],Y_train.iloc[1:50000])\n",
        "\n",
        "\n",
        "\n",
        "# print score of the model\n",
        "print_scores(GBR)\n",
        "\n",
        "\n",
        "# visualizing the inportance of features.\n",
        "fig, ax = visualize_importance(GBR.feature_importances_,train_X.iloc[1:50000])"
      ]
    },
    {
      "cell_type": "code",
      "execution_count": null,
      "metadata": {
        "id": "l2vzCVpIPNVT"
      },
      "outputs": [],
      "source": [
        "models=[rf,GBR]\n",
        "names=['forest','GBR']\n",
        "\n",
        "comp_model_train, comp_model_test=compare_models(models,names,X_train,Y_train,X_test,Y_test)"
      ]
    },
    {
      "cell_type": "code",
      "execution_count": null,
      "metadata": {
        "id": "T40AvABRQYvL"
      },
      "outputs": [],
      "source": [
        "print(\"Metrics on train data\")\n",
        "comp_model_train"
      ]
    },
    {
      "cell_type": "markdown",
      "metadata": {
        "id": "U-gIJmXkQjAv"
      },
      "source": [
        "We can see that random forest has negatice r^2 on train_data"
      ]
    },
    {
      "cell_type": "code",
      "execution_count": null,
      "metadata": {
        "id": "Vo6GmIJNQfWd"
      },
      "outputs": [],
      "source": [
        "print(\"Metrics on test data\")\n",
        "comp_model_test"
      ]
    },
    {
      "cell_type": "markdown",
      "metadata": {
        "id": "V6oTOlO2Qxbd"
      },
      "source": [
        "Here we can also random forest has negative r^2, therefore we will select GBR as our model to predict"
      ]
    },
    {
      "cell_type": "markdown",
      "metadata": {
        "id": "lPVQy0ubRE4o"
      },
      "source": [
        "#Now working on the test dataset provided"
      ]
    },
    {
      "cell_type": "code",
      "execution_count": null,
      "metadata": {
        "id": "4ASgdfVNQ_XS"
      },
      "outputs": [],
      "source": [
        "#test data\n",
        "\n",
        "test_X=test_data\n",
        "test_X.head()"
      ]
    },
    {
      "cell_type": "code",
      "execution_count": null,
      "metadata": {
        "id": "y17zHnXxSs5G"
      },
      "outputs": [],
      "source": [
        "#shape\n",
        "test_X.shape"
      ]
    },
    {
      "cell_type": "code",
      "execution_count": null,
      "metadata": {
        "id": "wXUGahEiS0UA"
      },
      "outputs": [],
      "source": [
        "#scale\n",
        "col_to_be_scaled=['yearsExperience','milesFromMetropolis']\n",
        "test_X=scale_data(test_X,col_to_be_scaled)"
      ]
    },
    {
      "cell_type": "code",
      "execution_count": null,
      "metadata": {
        "id": "-rLvOTGkTZA8"
      },
      "outputs": [],
      "source": [
        "test_X"
      ]
    },
    {
      "cell_type": "code",
      "execution_count": null,
      "metadata": {
        "id": "e1UpvNuPTgIZ"
      },
      "outputs": [],
      "source": [
        "test_X=pd.get_dummies(test_X,columns=['jobType','degree','major','industry'])\n"
      ]
    },
    {
      "cell_type": "code",
      "execution_count": null,
      "metadata": {
        "id": "WM8O6m1MUsUl"
      },
      "outputs": [],
      "source": [
        "test_X.head()\n"
      ]
    },
    {
      "cell_type": "code",
      "execution_count": null,
      "metadata": {
        "id": "WgcKC0wjWI3Y"
      },
      "outputs": [],
      "source": [
        "test_X=test_X.drop(['jobId','companyId'],axis=1)"
      ]
    },
    {
      "cell_type": "code",
      "execution_count": null,
      "metadata": {
        "id": "cR0At88wVXmI"
      },
      "outputs": [],
      "source": [
        "#seeing our test_data\n",
        "test_X.head()"
      ]
    },
    {
      "cell_type": "code",
      "execution_count": null,
      "metadata": {
        "id": "pqNkNG-sWyuL"
      },
      "outputs": [],
      "source": [
        "#Perform the prediction on the test dataset\n",
        "y_predicted=GBR.predict(test_X)\n",
        "y_predicted"
      ]
    },
    {
      "cell_type": "code",
      "execution_count": null,
      "metadata": {
        "id": "EPd7XZ-aXWAo"
      },
      "outputs": [],
      "source": [
        "#creating a dataframe of predicted results\n",
        "predictions=pd.DataFrame(y_predicted)  "
      ]
    },
    {
      "cell_type": "code",
      "execution_count": null,
      "metadata": {
        "id": "qUlmB_HnXmsF"
      },
      "outputs": [],
      "source": [
        "#predicted values in DataFrame\n",
        "predictions"
      ]
    },
    {
      "cell_type": "code",
      "execution_count": null,
      "metadata": {
        "id": "621kS3FTX0ZK"
      },
      "outputs": [],
      "source": []
    }
  ],
  "metadata": {
    "colab": {
      "provenance": []
    },
    "kernelspec": {
      "display_name": "Python 3",
      "name": "python3"
    },
    "language_info": {
      "name": "python"
    }
  },
  "nbformat": 4,
  "nbformat_minor": 0
}